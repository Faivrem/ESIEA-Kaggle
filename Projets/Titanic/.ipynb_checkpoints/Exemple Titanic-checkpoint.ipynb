{
 "cells": [
  {
   "cell_type": "markdown",
   "metadata": {},
   "source": [
    "# Tutoriel et explication sur le projet Titanic de Kaggle"
   ]
  },
  {
   "cell_type": "markdown",
   "metadata": {},
   "source": [
    "## But du projet"
   ]
  },
  {
   "cell_type": "markdown",
   "metadata": {},
   "source": [
    "En s'entrainant sur un jeux de données, le modèle doit prédire si la personne va survivre ou non en fonction de ses différents caractéristiques. \n",
    "\n",
    "Deux possibilités de prédiction :\n",
    "\n",
    "    0 = meurt\n",
    "    1 = survit\n",
    "    \n",
    "Ce notebook aura pour but d'expliquer une démarche afin d'aborder un premier projet Kaggle. Il n'est en aucun cas parfait."
   ]
  },
  {
   "cell_type": "markdown",
   "metadata": {},
   "source": [
    "### Import des libraries principales Python afin de faire de la Data Science"
   ]
  },
  {
   "cell_type": "code",
   "execution_count": 35,
   "metadata": {},
   "outputs": [
    {
     "name": "stdout",
     "output_type": "stream",
     "text": [
      "Version de Python : 3.6.5 |Anaconda, Inc.| (default, Apr 26 2018, 08:42:37) \n",
      "[GCC 4.2.1 Compatible Clang 4.0.1 (tags/RELEASE_401/final)]\n"
     ]
    }
   ],
   "source": [
    "import sys\n",
    "import pandas as pd # Librairie pour stocker des données sous forme de tableau/matrice\n",
    "import numpy as np #Librairie pour calcule et opération matricielle\n",
    "import sklearn as sk #Librairie d'outils et de modèle de machine learning\n",
    "import matplotlib.pyplot as plt # Librairie de Data Visualisation\n",
    "print('Version de Python : '+sys.version)"
   ]
  },
  {
   "cell_type": "markdown",
   "metadata": {},
   "source": [
    "### Import des données d'entrainement\n",
    "\n",
    "La première étape est de récupérer le fichier d'entrainement et de le stocker dans une variable grâce à pandas"
   ]
  },
  {
   "cell_type": "code",
   "execution_count": 36,
   "metadata": {},
   "outputs": [
    {
     "data": {
      "text/html": [
       "<div>\n",
       "<style scoped>\n",
       "    .dataframe tbody tr th:only-of-type {\n",
       "        vertical-align: middle;\n",
       "    }\n",
       "\n",
       "    .dataframe tbody tr th {\n",
       "        vertical-align: top;\n",
       "    }\n",
       "\n",
       "    .dataframe thead th {\n",
       "        text-align: right;\n",
       "    }\n",
       "</style>\n",
       "<table border=\"1\" class=\"dataframe\">\n",
       "  <thead>\n",
       "    <tr style=\"text-align: right;\">\n",
       "      <th></th>\n",
       "      <th>PassengerId</th>\n",
       "      <th>Survived</th>\n",
       "      <th>Pclass</th>\n",
       "      <th>Name</th>\n",
       "      <th>Sex</th>\n",
       "      <th>Age</th>\n",
       "      <th>SibSp</th>\n",
       "      <th>Parch</th>\n",
       "      <th>Ticket</th>\n",
       "      <th>Fare</th>\n",
       "      <th>Cabin</th>\n",
       "      <th>Embarked</th>\n",
       "    </tr>\n",
       "  </thead>\n",
       "  <tbody>\n",
       "    <tr>\n",
       "      <th>0</th>\n",
       "      <td>1</td>\n",
       "      <td>0</td>\n",
       "      <td>3</td>\n",
       "      <td>Braund, Mr. Owen Harris</td>\n",
       "      <td>male</td>\n",
       "      <td>22.0</td>\n",
       "      <td>1</td>\n",
       "      <td>0</td>\n",
       "      <td>A/5 21171</td>\n",
       "      <td>7.2500</td>\n",
       "      <td>NaN</td>\n",
       "      <td>S</td>\n",
       "    </tr>\n",
       "    <tr>\n",
       "      <th>1</th>\n",
       "      <td>2</td>\n",
       "      <td>1</td>\n",
       "      <td>1</td>\n",
       "      <td>Cumings, Mrs. John Bradley (Florence Briggs Th...</td>\n",
       "      <td>female</td>\n",
       "      <td>38.0</td>\n",
       "      <td>1</td>\n",
       "      <td>0</td>\n",
       "      <td>PC 17599</td>\n",
       "      <td>71.2833</td>\n",
       "      <td>C85</td>\n",
       "      <td>C</td>\n",
       "    </tr>\n",
       "    <tr>\n",
       "      <th>2</th>\n",
       "      <td>3</td>\n",
       "      <td>1</td>\n",
       "      <td>3</td>\n",
       "      <td>Heikkinen, Miss. Laina</td>\n",
       "      <td>female</td>\n",
       "      <td>26.0</td>\n",
       "      <td>0</td>\n",
       "      <td>0</td>\n",
       "      <td>STON/O2. 3101282</td>\n",
       "      <td>7.9250</td>\n",
       "      <td>NaN</td>\n",
       "      <td>S</td>\n",
       "    </tr>\n",
       "    <tr>\n",
       "      <th>3</th>\n",
       "      <td>4</td>\n",
       "      <td>1</td>\n",
       "      <td>1</td>\n",
       "      <td>Futrelle, Mrs. Jacques Heath (Lily May Peel)</td>\n",
       "      <td>female</td>\n",
       "      <td>35.0</td>\n",
       "      <td>1</td>\n",
       "      <td>0</td>\n",
       "      <td>113803</td>\n",
       "      <td>53.1000</td>\n",
       "      <td>C123</td>\n",
       "      <td>S</td>\n",
       "    </tr>\n",
       "    <tr>\n",
       "      <th>4</th>\n",
       "      <td>5</td>\n",
       "      <td>0</td>\n",
       "      <td>3</td>\n",
       "      <td>Allen, Mr. William Henry</td>\n",
       "      <td>male</td>\n",
       "      <td>35.0</td>\n",
       "      <td>0</td>\n",
       "      <td>0</td>\n",
       "      <td>373450</td>\n",
       "      <td>8.0500</td>\n",
       "      <td>NaN</td>\n",
       "      <td>S</td>\n",
       "    </tr>\n",
       "  </tbody>\n",
       "</table>\n",
       "</div>"
      ],
      "text/plain": [
       "   PassengerId  Survived  Pclass  \\\n",
       "0            1         0       3   \n",
       "1            2         1       1   \n",
       "2            3         1       3   \n",
       "3            4         1       1   \n",
       "4            5         0       3   \n",
       "\n",
       "                                                Name     Sex   Age  SibSp  \\\n",
       "0                            Braund, Mr. Owen Harris    male  22.0      1   \n",
       "1  Cumings, Mrs. John Bradley (Florence Briggs Th...  female  38.0      1   \n",
       "2                             Heikkinen, Miss. Laina  female  26.0      0   \n",
       "3       Futrelle, Mrs. Jacques Heath (Lily May Peel)  female  35.0      1   \n",
       "4                           Allen, Mr. William Henry    male  35.0      0   \n",
       "\n",
       "   Parch            Ticket     Fare Cabin Embarked  \n",
       "0      0         A/5 21171   7.2500   NaN        S  \n",
       "1      0          PC 17599  71.2833   C85        C  \n",
       "2      0  STON/O2. 3101282   7.9250   NaN        S  \n",
       "3      0            113803  53.1000  C123        S  \n",
       "4      0            373450   8.0500   NaN        S  "
      ]
     },
     "execution_count": 36,
     "metadata": {},
     "output_type": "execute_result"
    }
   ],
   "source": [
    "ma_dataframe = pd.read_csv('./datasets/train.csv')\n",
    "ma_dataframe.head(5) # Affichage des 5 premières lignes"
   ]
  },
  {
   "cell_type": "markdown",
   "metadata": {},
   "source": [
    "###  Description des différentes colonnes \n",
    "\n",
    "Notre but est de prédire la colonne 'Survived' (colonne binaire 1/0)"
   ]
  },
  {
   "cell_type": "code",
   "execution_count": 37,
   "metadata": {},
   "outputs": [
    {
     "data": {
      "text/plain": [
       "PassengerId      int64\n",
       "Survived         int64\n",
       "Pclass           int64\n",
       "Name            object\n",
       "Sex             object\n",
       "Age            float64\n",
       "SibSp            int64\n",
       "Parch            int64\n",
       "Ticket          object\n",
       "Fare           float64\n",
       "Cabin           object\n",
       "Embarked        object\n",
       "dtype: object"
      ]
     },
     "execution_count": 37,
     "metadata": {},
     "output_type": "execute_result"
    }
   ],
   "source": [
    "ma_dataframe.dtypes #Affichage des types de chaque colonne de notre dataframe"
   ]
  },
  {
   "cell_type": "markdown",
   "metadata": {},
   "source": [
    "### Le but va être de découper nos colonnes en variable de type catégorielle (discrète) et numérique (continu)"
   ]
  },
  {
   "cell_type": "markdown",
   "metadata": {},
   "source": [
    "    PassengerID - Une colonne ajoutée par Kaggle pour identifier chaque ligne et faciliter les soumissions\n",
    "    Survived - Si le passager a survécu ou non et la valeur que nous prédisons (0 = Non, 1 = Oui)\n",
    "    Pclass - Classe du billet acheté par le passager (1 = 1ère, 2 = 2ème, 3 = 3ème)\n",
    "    Sexe - Le sexe du passager\n",
    "    Age - L'âge du passager en années\n",
    "    SibSp - Le nombre de frères et sœurs ou d’épouses que le passager avait à bord du Titanic\n",
    "    Parch - Le nombre de parents ou d'enfants que le passager avait à bord du Titanic\n",
    "    Ticket - Le numéro du billet du passager\n",
    "    Fare - Le prix payé par le passager\n",
    "    Cabin - Le numéro de la cabine du passager\n",
    "    Embarqué - Le port où le passager s'est embarqué (C = Cherbourg, Q = Queenstown, S = Southampton)\n",
    "    \n",
    "    \n",
    " Afin de simplifier le notebook, nous l'avons prendre que 2 variables de chaque. Il suffit de répeter l'exercice et de déterminer quels sont les variables les plus importantes."
   ]
  },
  {
   "cell_type": "code",
   "execution_count": 38,
   "metadata": {},
   "outputs": [],
   "source": [
    "col_categorielle = ['Pclass','Sex'] # Gardons la classe du billet et le sexe du passage\n",
    "col_mesure = ['Age','Fare'] # L'age du passager et le prix de son billet"
   ]
  },
  {
   "cell_type": "markdown",
   "metadata": {},
   "source": [
    "### Information sur les proportions de survivants"
   ]
  },
  {
   "cell_type": "code",
   "execution_count": 39,
   "metadata": {},
   "outputs": [
    {
     "data": {
      "text/plain": [
       "<matplotlib.axes._subplots.AxesSubplot at 0xa20f445c0>"
      ]
     },
     "execution_count": 39,
     "metadata": {},
     "output_type": "execute_result"
    },
    {
     "data": {
      "image/png": "[encoded data removed]",
      "text/plain": [
       "<Figure size 432x288 with 1 Axes>"
      ]
     },
     "metadata": {},
     "output_type": "display_data"
    }
   ],
   "source": [
    "ma_dataframe.Survived.hist() # On affiche les différentes valeurs de Survived et leur nombre sous forme d'histogramme"
   ]
  },
  {
   "cell_type": "markdown",
   "metadata": {},
   "source": [
    "### Une des choses à avoir en tête : s'occuper des données manquantes (Null, NaN, null)\n",
    "Dans ce jupyter nous allons faire simple et supprimer les lignes contenant nos données manquantes\n"
   ]
  },
  {
   "cell_type": "code",
   "execution_count": 40,
   "metadata": {},
   "outputs": [
    {
     "name": "stdout",
     "output_type": "stream",
     "text": [
      "####Pclass####\n",
      "3    491\n",
      "1    216\n",
      "2    184\n",
      "Name: Pclass, dtype: int64\n",
      "\n",
      "####Sex####\n",
      "male      577\n",
      "female    314\n",
      "Name: Sex, dtype: int64\n",
      "\n"
     ]
    }
   ],
   "source": [
    "for categorielle in col_categorielle:\n",
    "    print(\"####\"+categorielle+\"####\")\n",
    "    print(ma_dataframe[categorielle].value_counts(dropna=False))\n",
    "    print()"
   ]
  },
  {
   "cell_type": "markdown",
   "metadata": {},
   "source": [
    "Pas de données manquantes pour nos variables catégorielles.\n",
    "\n",
    "Voyons voir pour nos colonnes contenant des mesures"
   ]
  },
  {
   "cell_type": "code",
   "execution_count": 41,
   "metadata": {},
   "outputs": [
    {
     "name": "stdout",
     "output_type": "stream",
     "text": [
      "##Age##\n",
      "NB nul : 177\n",
      "##Fare##\n",
      "NB nul : 0\n"
     ]
    }
   ],
   "source": [
    "for mesure in col_mesure:\n",
    "    print(\"##\"+str(mesure)+\"##\")\n",
    "    print(\"NB nul : \"+str(ma_dataframe[mesure].isna().sum()))"
   ]
  },
  {
   "cell_type": "markdown",
   "metadata": {},
   "source": [
    "Nous avons donc 177 personne dont l'age est NULL.. Par simplicité nous allons supprimer ses lignes.\n",
    "\n",
    "Cependant ces lignes sont largement exploitables, il existe plusieurs solutions pour remplacer ses données manquantes : je vous laisse vous réferer à la fonction fillna de pandas : \n",
    "https://pandas.pydata.org/pandas-docs/stable/reference/api/pandas.DataFrame.fillna.html"
   ]
  },
  {
   "cell_type": "code",
   "execution_count": 42,
   "metadata": {},
   "outputs": [
    {
     "name": "stdout",
     "output_type": "stream",
     "text": [
      "(891, 12)\n",
      "(714, 12)\n"
     ]
    }
   ],
   "source": [
    "print(ma_dataframe.shape)\n",
    "# Supression des lignes dont l'age est null ! # \n",
    "ma_dataframe.dropna(subset=[\"Age\"],inplace = True)\n",
    "print(ma_dataframe.shape)"
   ]
  },
  {
   "cell_type": "markdown",
   "metadata": {},
   "source": [
    "On passe bien de 891 ligne à 714.."
   ]
  },
  {
   "cell_type": "markdown",
   "metadata": {},
   "source": [
    "Sélectionons maintenant notre dataframe et nos colonnes voulues :\n",
    "\n",
    "- l'age\n",
    "- le sexe\n",
    "- PClass\n",
    "- Le prix du billet\n",
    "- et Survived"
   ]
  },
  {
   "cell_type": "code",
   "execution_count": 53,
   "metadata": {},
   "outputs": [
    {
     "data": {
      "text/html": [
       "<div>\n",
       "<style scoped>\n",
       "    .dataframe tbody tr th:only-of-type {\n",
       "        vertical-align: middle;\n",
       "    }\n",
       "\n",
       "    .dataframe tbody tr th {\n",
       "        vertical-align: top;\n",
       "    }\n",
       "\n",
       "    .dataframe thead th {\n",
       "        text-align: right;\n",
       "    }\n",
       "</style>\n",
       "<table border=\"1\" class=\"dataframe\">\n",
       "  <thead>\n",
       "    <tr style=\"text-align: right;\">\n",
       "      <th></th>\n",
       "      <th>Age</th>\n",
       "      <th>Fare</th>\n",
       "      <th>Pclass</th>\n",
       "      <th>Sex</th>\n",
       "      <th>Survived</th>\n",
       "    </tr>\n",
       "  </thead>\n",
       "  <tbody>\n",
       "    <tr>\n",
       "      <th>0</th>\n",
       "      <td>22.0</td>\n",
       "      <td>7.2500</td>\n",
       "      <td>3</td>\n",
       "      <td>male</td>\n",
       "      <td>0</td>\n",
       "    </tr>\n",
       "    <tr>\n",
       "      <th>1</th>\n",
       "      <td>38.0</td>\n",
       "      <td>71.2833</td>\n",
       "      <td>1</td>\n",
       "      <td>female</td>\n",
       "      <td>1</td>\n",
       "    </tr>\n",
       "    <tr>\n",
       "      <th>2</th>\n",
       "      <td>26.0</td>\n",
       "      <td>7.9250</td>\n",
       "      <td>3</td>\n",
       "      <td>female</td>\n",
       "      <td>1</td>\n",
       "    </tr>\n",
       "    <tr>\n",
       "      <th>3</th>\n",
       "      <td>35.0</td>\n",
       "      <td>53.1000</td>\n",
       "      <td>1</td>\n",
       "      <td>female</td>\n",
       "      <td>1</td>\n",
       "    </tr>\n",
       "    <tr>\n",
       "      <th>4</th>\n",
       "      <td>35.0</td>\n",
       "      <td>8.0500</td>\n",
       "      <td>3</td>\n",
       "      <td>male</td>\n",
       "      <td>0</td>\n",
       "    </tr>\n",
       "  </tbody>\n",
       "</table>\n",
       "</div>"
      ],
      "text/plain": [
       "    Age     Fare  Pclass     Sex  Survived\n",
       "0  22.0   7.2500       3    male         0\n",
       "1  38.0  71.2833       1  female         1\n",
       "2  26.0   7.9250       3  female         1\n",
       "3  35.0  53.1000       1  female         1\n",
       "4  35.0   8.0500       3    male         0"
      ]
     },
     "execution_count": 53,
     "metadata": {},
     "output_type": "execute_result"
    }
   ],
   "source": [
    "ma_dataframe = ma_dataframe[col_mesure+col_categorielle+['Survived']]\n",
    "ma_dataframe.head()"
   ]
  },
  {
   "cell_type": "markdown",
   "metadata": {},
   "source": [
    "### Gérer les données catégorielles\n",
    "Les données catégorielles ne sont pas interpretables pas un modèle statistique : en effet il lui faut une matrice de chiffres !\n",
    "Pour ce fait, nous allons vecteurisé nos variables catégorielle !\n",
    "##### Késako ?\n",
    "Le but est de transforme notre colonne Sexe (dans un premier temps) en deux colonnes binaires : *male* et *female*\n",
    "\n",
    "De ce fait nous allons transformer notre variable texte en variable binaire !\n",
    "\n",
    "Pandas implement une fonction appelé get_dummies permettant de faire cela. On va modifier cette fonction pour qu'elle ajoute directement ses colonnes à notre dataframe."
   ]
  },
  {
   "cell_type": "code",
   "execution_count": 54,
   "metadata": {},
   "outputs": [],
   "source": [
    "# La fonction permettant de recoller nos colonnes\n",
    "def create_dummies(df,column_name):\n",
    "    dummies = pd.get_dummies(df[column_name],prefix=column_name)\n",
    "    df = pd.concat([df,dummies],axis=1)\n",
    "    return df"
   ]
  },
  {
   "cell_type": "code",
   "execution_count": 55,
   "metadata": {},
   "outputs": [
    {
     "data": {
      "text/html": [
       "<div>\n",
       "<style scoped>\n",
       "    .dataframe tbody tr th:only-of-type {\n",
       "        vertical-align: middle;\n",
       "    }\n",
       "\n",
       "    .dataframe tbody tr th {\n",
       "        vertical-align: top;\n",
       "    }\n",
       "\n",
       "    .dataframe thead th {\n",
       "        text-align: right;\n",
       "    }\n",
       "</style>\n",
       "<table border=\"1\" class=\"dataframe\">\n",
       "  <thead>\n",
       "    <tr style=\"text-align: right;\">\n",
       "      <th></th>\n",
       "      <th>Age</th>\n",
       "      <th>Fare</th>\n",
       "      <th>Pclass</th>\n",
       "      <th>Sex</th>\n",
       "      <th>Survived</th>\n",
       "      <th>Sex_female</th>\n",
       "      <th>Sex_male</th>\n",
       "    </tr>\n",
       "  </thead>\n",
       "  <tbody>\n",
       "    <tr>\n",
       "      <th>0</th>\n",
       "      <td>22.0</td>\n",
       "      <td>7.2500</td>\n",
       "      <td>3</td>\n",
       "      <td>male</td>\n",
       "      <td>0</td>\n",
       "      <td>0</td>\n",
       "      <td>1</td>\n",
       "    </tr>\n",
       "    <tr>\n",
       "      <th>1</th>\n",
       "      <td>38.0</td>\n",
       "      <td>71.2833</td>\n",
       "      <td>1</td>\n",
       "      <td>female</td>\n",
       "      <td>1</td>\n",
       "      <td>1</td>\n",
       "      <td>0</td>\n",
       "    </tr>\n",
       "    <tr>\n",
       "      <th>2</th>\n",
       "      <td>26.0</td>\n",
       "      <td>7.9250</td>\n",
       "      <td>3</td>\n",
       "      <td>female</td>\n",
       "      <td>1</td>\n",
       "      <td>1</td>\n",
       "      <td>0</td>\n",
       "    </tr>\n",
       "    <tr>\n",
       "      <th>3</th>\n",
       "      <td>35.0</td>\n",
       "      <td>53.1000</td>\n",
       "      <td>1</td>\n",
       "      <td>female</td>\n",
       "      <td>1</td>\n",
       "      <td>1</td>\n",
       "      <td>0</td>\n",
       "    </tr>\n",
       "    <tr>\n",
       "      <th>4</th>\n",
       "      <td>35.0</td>\n",
       "      <td>8.0500</td>\n",
       "      <td>3</td>\n",
       "      <td>male</td>\n",
       "      <td>0</td>\n",
       "      <td>0</td>\n",
       "      <td>1</td>\n",
       "    </tr>\n",
       "  </tbody>\n",
       "</table>\n",
       "</div>"
      ],
      "text/plain": [
       "    Age     Fare  Pclass     Sex  Survived  Sex_female  Sex_male\n",
       "0  22.0   7.2500       3    male         0           0         1\n",
       "1  38.0  71.2833       1  female         1           1         0\n",
       "2  26.0   7.9250       3  female         1           1         0\n",
       "3  35.0  53.1000       1  female         1           1         0\n",
       "4  35.0   8.0500       3    male         0           0         1"
      ]
     },
     "execution_count": 55,
     "metadata": {},
     "output_type": "execute_result"
    }
   ],
   "source": [
    "ma_dataframe = create_dummies(ma_dataframe,\"Sex\")\n",
    "ma_dataframe.head()"
   ]
  },
  {
   "cell_type": "markdown",
   "metadata": {},
   "source": [
    "On fait la même chose pour notre PClass : qui n'est pas une valeur continu !"
   ]
  },
  {
   "cell_type": "code",
   "execution_count": 56,
   "metadata": {},
   "outputs": [
    {
     "data": {
      "text/html": [
       "<div>\n",
       "<style scoped>\n",
       "    .dataframe tbody tr th:only-of-type {\n",
       "        vertical-align: middle;\n",
       "    }\n",
       "\n",
       "    .dataframe tbody tr th {\n",
       "        vertical-align: top;\n",
       "    }\n",
       "\n",
       "    .dataframe thead th {\n",
       "        text-align: right;\n",
       "    }\n",
       "</style>\n",
       "<table border=\"1\" class=\"dataframe\">\n",
       "  <thead>\n",
       "    <tr style=\"text-align: right;\">\n",
       "      <th></th>\n",
       "      <th>Age</th>\n",
       "      <th>Fare</th>\n",
       "      <th>Pclass</th>\n",
       "      <th>Sex</th>\n",
       "      <th>Survived</th>\n",
       "      <th>Sex_female</th>\n",
       "      <th>Sex_male</th>\n",
       "      <th>Pclass_1</th>\n",
       "      <th>Pclass_2</th>\n",
       "      <th>Pclass_3</th>\n",
       "    </tr>\n",
       "  </thead>\n",
       "  <tbody>\n",
       "    <tr>\n",
       "      <th>0</th>\n",
       "      <td>22.0</td>\n",
       "      <td>7.2500</td>\n",
       "      <td>3</td>\n",
       "      <td>male</td>\n",
       "      <td>0</td>\n",
       "      <td>0</td>\n",
       "      <td>1</td>\n",
       "      <td>0</td>\n",
       "      <td>0</td>\n",
       "      <td>1</td>\n",
       "    </tr>\n",
       "    <tr>\n",
       "      <th>1</th>\n",
       "      <td>38.0</td>\n",
       "      <td>71.2833</td>\n",
       "      <td>1</td>\n",
       "      <td>female</td>\n",
       "      <td>1</td>\n",
       "      <td>1</td>\n",
       "      <td>0</td>\n",
       "      <td>1</td>\n",
       "      <td>0</td>\n",
       "      <td>0</td>\n",
       "    </tr>\n",
       "    <tr>\n",
       "      <th>2</th>\n",
       "      <td>26.0</td>\n",
       "      <td>7.9250</td>\n",
       "      <td>3</td>\n",
       "      <td>female</td>\n",
       "      <td>1</td>\n",
       "      <td>1</td>\n",
       "      <td>0</td>\n",
       "      <td>0</td>\n",
       "      <td>0</td>\n",
       "      <td>1</td>\n",
       "    </tr>\n",
       "    <tr>\n",
       "      <th>3</th>\n",
       "      <td>35.0</td>\n",
       "      <td>53.1000</td>\n",
       "      <td>1</td>\n",
       "      <td>female</td>\n",
       "      <td>1</td>\n",
       "      <td>1</td>\n",
       "      <td>0</td>\n",
       "      <td>1</td>\n",
       "      <td>0</td>\n",
       "      <td>0</td>\n",
       "    </tr>\n",
       "    <tr>\n",
       "      <th>4</th>\n",
       "      <td>35.0</td>\n",
       "      <td>8.0500</td>\n",
       "      <td>3</td>\n",
       "      <td>male</td>\n",
       "      <td>0</td>\n",
       "      <td>0</td>\n",
       "      <td>1</td>\n",
       "      <td>0</td>\n",
       "      <td>0</td>\n",
       "      <td>1</td>\n",
       "    </tr>\n",
       "  </tbody>\n",
       "</table>\n",
       "</div>"
      ],
      "text/plain": [
       "    Age     Fare  Pclass     Sex  Survived  Sex_female  Sex_male  Pclass_1  \\\n",
       "0  22.0   7.2500       3    male         0           0         1         0   \n",
       "1  38.0  71.2833       1  female         1           1         0         1   \n",
       "2  26.0   7.9250       3  female         1           1         0         0   \n",
       "3  35.0  53.1000       1  female         1           1         0         1   \n",
       "4  35.0   8.0500       3    male         0           0         1         0   \n",
       "\n",
       "   Pclass_2  Pclass_3  \n",
       "0         0         1  \n",
       "1         0         0  \n",
       "2         0         1  \n",
       "3         0         0  \n",
       "4         0         1  "
      ]
     },
     "execution_count": 56,
     "metadata": {},
     "output_type": "execute_result"
    }
   ],
   "source": [
    "ma_dataframe = create_dummies(ma_dataframe,\"Pclass\")\n",
    "ma_dataframe.head()"
   ]
  },
  {
   "cell_type": "markdown",
   "metadata": {},
   "source": [
    "On ne garde du coup que les colonnes qui nous intéresse : "
   ]
  },
  {
   "cell_type": "code",
   "execution_count": 59,
   "metadata": {},
   "outputs": [
    {
     "data": {
      "text/html": [
       "<div>\n",
       "<style scoped>\n",
       "    .dataframe tbody tr th:only-of-type {\n",
       "        vertical-align: middle;\n",
       "    }\n",
       "\n",
       "    .dataframe tbody tr th {\n",
       "        vertical-align: top;\n",
       "    }\n",
       "\n",
       "    .dataframe thead th {\n",
       "        text-align: right;\n",
       "    }\n",
       "</style>\n",
       "<table border=\"1\" class=\"dataframe\">\n",
       "  <thead>\n",
       "    <tr style=\"text-align: right;\">\n",
       "      <th></th>\n",
       "      <th>Age</th>\n",
       "      <th>Fare</th>\n",
       "      <th>Sex_female</th>\n",
       "      <th>Sex_male</th>\n",
       "      <th>Pclass_1</th>\n",
       "      <th>Pclass_2</th>\n",
       "      <th>Pclass_3</th>\n",
       "      <th>Survived</th>\n",
       "    </tr>\n",
       "  </thead>\n",
       "  <tbody>\n",
       "    <tr>\n",
       "      <th>0</th>\n",
       "      <td>22.0</td>\n",
       "      <td>7.2500</td>\n",
       "      <td>0</td>\n",
       "      <td>1</td>\n",
       "      <td>0</td>\n",
       "      <td>0</td>\n",
       "      <td>1</td>\n",
       "      <td>0</td>\n",
       "    </tr>\n",
       "    <tr>\n",
       "      <th>1</th>\n",
       "      <td>38.0</td>\n",
       "      <td>71.2833</td>\n",
       "      <td>1</td>\n",
       "      <td>0</td>\n",
       "      <td>1</td>\n",
       "      <td>0</td>\n",
       "      <td>0</td>\n",
       "      <td>1</td>\n",
       "    </tr>\n",
       "    <tr>\n",
       "      <th>2</th>\n",
       "      <td>26.0</td>\n",
       "      <td>7.9250</td>\n",
       "      <td>1</td>\n",
       "      <td>0</td>\n",
       "      <td>0</td>\n",
       "      <td>0</td>\n",
       "      <td>1</td>\n",
       "      <td>1</td>\n",
       "    </tr>\n",
       "    <tr>\n",
       "      <th>3</th>\n",
       "      <td>35.0</td>\n",
       "      <td>53.1000</td>\n",
       "      <td>1</td>\n",
       "      <td>0</td>\n",
       "      <td>1</td>\n",
       "      <td>0</td>\n",
       "      <td>0</td>\n",
       "      <td>1</td>\n",
       "    </tr>\n",
       "    <tr>\n",
       "      <th>4</th>\n",
       "      <td>35.0</td>\n",
       "      <td>8.0500</td>\n",
       "      <td>0</td>\n",
       "      <td>1</td>\n",
       "      <td>0</td>\n",
       "      <td>0</td>\n",
       "      <td>1</td>\n",
       "      <td>0</td>\n",
       "    </tr>\n",
       "  </tbody>\n",
       "</table>\n",
       "</div>"
      ],
      "text/plain": [
       "    Age     Fare  Sex_female  Sex_male  Pclass_1  Pclass_2  Pclass_3  Survived\n",
       "0  22.0   7.2500           0         1         0         0         1         0\n",
       "1  38.0  71.2833           1         0         1         0         0         1\n",
       "2  26.0   7.9250           1         0         0         0         1         1\n",
       "3  35.0  53.1000           1         0         1         0         0         1\n",
       "4  35.0   8.0500           0         1         0         0         1         0"
      ]
     },
     "execution_count": 59,
     "metadata": {},
     "output_type": "execute_result"
    }
   ],
   "source": [
    "ma_dataframe = ma_dataframe[[\"Age\",\"Fare\",\"Sex_female\",\"Sex_male\",\"Pclass_1\",\"Pclass_2\",\"Pclass_3\",\"Survived\"]]\n",
    "ma_dataframe.head()"
   ]
  },
  {
   "cell_type": "markdown",
   "metadata": {},
   "source": [
    "La préparation de nos données est terminé ! \n",
    "\n",
    "Cependant, c'est une partie des plus importantes. Il existe pleins de manière de préparer ces données, gérer les données manquantes, se créer de nouvelles colonnes (exemple : ajouter une colonne (rapport entre le nombre d'enfant et l'age), discretisé des valeurs continues (exemple: créer des intervalles pour les ages : Enfant[0-12ans], Ados[12-18], Adult[18-59], Personnes agées [59-100]), sélectionner les meilleurs colonnes aidant à la prédiction, etc. \n",
    "\n",
    "### Passons à la création de notre modèle !\n",
    "\n",
    "La première étape est de spliter notre jeux de données en 4 :\n",
    "    \n",
    "    - entrainement (70% de notre dataframe):\n",
    "                - Nos colonnes aidant à la prédiction (X_train)\n",
    "                - Notre colonne indiquant la valeur cible : Survived (y_train)\n",
    "                \n",
    "    - un jeux de données nouveau pour vérifier que notre modèle fonctionne et qu'il prédit correctement, sachant qu'il ne s'est pas entrainé sur ce jeux de données (30% de notre dataframe):\n",
    "                - Les colonnes aidant à la prédiction (X_test)\n",
    "                - La colonne indiquant la valeur cible : Survived (y_test)\n",
    "                \n",
    "Grâce à train_split_test c'est un jeux d'enfant."
   ]
  },
  {
   "cell_type": "code",
   "execution_count": 66,
   "metadata": {},
   "outputs": [],
   "source": [
    "from sklearn.model_selection import train_test_split\n",
    "colonne_cible = ma_dataframe[ma_dataframe.columns[-1]] #La dernière colonne\n",
    "colonne_aidant_pred = ma_dataframe[ma_dataframe.columns[:-1]] #Toutes les colonnes sauf la dernière"
   ]
  },
  {
   "cell_type": "code",
   "execution_count": 72,
   "metadata": {},
   "outputs": [],
   "source": [
    "X_train, X_test, y_train, y_test = train_test_split(colonne_aidant_pred, colonne_cible, test_size=0.30, random_state=42)"
   ]
  },
  {
   "cell_type": "markdown",
   "metadata": {},
   "source": [
    "On va donc utiliser notre X_train et notre y_train pour entrainer notre modèle. (soit 499 lignes)\n",
    "\n",
    "Puis on vérifiera notre score avec notre X_test et y_test ;-)(soit 215 lignes)"
   ]
  },
  {
   "cell_type": "code",
   "execution_count": 76,
   "metadata": {},
   "outputs": [
    {
     "name": "stdout",
     "output_type": "stream",
     "text": [
      "(499, 7)\n",
      "(215, 7)\n"
     ]
    }
   ],
   "source": [
    "print(X_train.shape)\n",
    "print(X_test.shape)"
   ]
  },
  {
   "cell_type": "markdown",
   "metadata": {},
   "source": [
    "## Sélection du modèle \n",
    "\n",
    "Il faudrait refaire un cours de statistique pour vous expliquer quel modèle choisir.\n",
    "Je vous propose d'utiliser la pipeline de scikit pour en tester pleins d'un coup et de choisir le meilleur !\n",
    "\n",
    "Le meilleur modèle selon nous serait celui qui se trompe le moins dans ses prédictions en utilisant notre X_test et de les comparés avec les données réels (y_test)"
   ]
  },
  {
   "cell_type": "code",
   "execution_count": 88,
   "metadata": {},
   "outputs": [
    {
     "name": "stdout",
     "output_type": "stream",
     "text": [
      "Test en cours :\n",
      "LR\n",
      "Test en cours :\n",
      "LDA\n",
      "Test en cours :\n",
      "CART\n",
      "Test en cours :\n",
      "RandomForest\n"
     ]
    },
    {
     "name": "stderr",
     "output_type": "stream",
     "text": [
      "/anaconda3/lib/python3.6/site-packages/sklearn/discriminant_analysis.py:388: UserWarning: Variables are collinear.\n",
      "  warnings.warn(\"Variables are collinear.\")\n",
      "/anaconda3/lib/python3.6/site-packages/sklearn/discriminant_analysis.py:388: UserWarning: Variables are collinear.\n",
      "  warnings.warn(\"Variables are collinear.\")\n",
      "/anaconda3/lib/python3.6/site-packages/sklearn/discriminant_analysis.py:388: UserWarning: Variables are collinear.\n",
      "  warnings.warn(\"Variables are collinear.\")\n",
      "/anaconda3/lib/python3.6/site-packages/sklearn/discriminant_analysis.py:388: UserWarning: Variables are collinear.\n",
      "  warnings.warn(\"Variables are collinear.\")\n",
      "/anaconda3/lib/python3.6/site-packages/sklearn/discriminant_analysis.py:388: UserWarning: Variables are collinear.\n",
      "  warnings.warn(\"Variables are collinear.\")\n",
      "/anaconda3/lib/python3.6/site-packages/sklearn/discriminant_analysis.py:388: UserWarning: Variables are collinear.\n",
      "  warnings.warn(\"Variables are collinear.\")\n",
      "/anaconda3/lib/python3.6/site-packages/sklearn/discriminant_analysis.py:388: UserWarning: Variables are collinear.\n",
      "  warnings.warn(\"Variables are collinear.\")\n",
      "/anaconda3/lib/python3.6/site-packages/sklearn/discriminant_analysis.py:388: UserWarning: Variables are collinear.\n",
      "  warnings.warn(\"Variables are collinear.\")\n",
      "/anaconda3/lib/python3.6/site-packages/sklearn/discriminant_analysis.py:388: UserWarning: Variables are collinear.\n",
      "  warnings.warn(\"Variables are collinear.\")\n",
      "/anaconda3/lib/python3.6/site-packages/sklearn/discriminant_analysis.py:388: UserWarning: Variables are collinear.\n",
      "  warnings.warn(\"Variables are collinear.\")\n"
     ]
    },
    {
     "name": "stdout",
     "output_type": "stream",
     "text": [
      "Test en cours :\n",
      "KNN\n",
      "Test en cours :\n",
      "NearestCentroid\n",
      "Test en cours :\n",
      "SVC\n",
      "Test en cours :\n",
      "SVCL\n",
      "Test en cours :\n",
      "LinearSVC\n",
      "Test en cours :\n",
      "SGDC\n",
      "Test en cours :\n",
      "NB\n",
      "Test en cours :\n",
      "MultinomialNB\n",
      "Test en cours :\n",
      "BernoulliNB\n",
      "Test en cours :\n",
      "RidgeClassifier\n",
      "Test en cours :\n",
      "PassiveAggressiveClassifier\n",
      "Test en cours :\n",
      "Perceptron\n",
      "Test en cours :\n",
      "MLP\n"
     ]
    },
    {
     "data": {
      "image/png": "[encoded data removed]",
      "text/plain": [
       "<Figure size 432x288 with 1 Axes>"
      ]
     },
     "metadata": {},
     "output_type": "display_data"
    }
   ],
   "source": [
    "import seaborn as sns\n",
    "\n",
    "from sklearn.tree import DecisionTreeClassifier\n",
    "from sklearn.svm import LinearSVC\n",
    "from sklearn.svm import SVC\n",
    "from sklearn.linear_model import LogisticRegression\n",
    "from sklearn.linear_model import RidgeClassifier\n",
    "from sklearn.linear_model import SGDClassifier\n",
    "from sklearn.linear_model import Perceptron\n",
    "from sklearn.linear_model import PassiveAggressiveClassifier\n",
    "from sklearn.naive_bayes import BernoulliNB\n",
    "from sklearn.neighbors import KNeighborsClassifier\n",
    "from sklearn.neighbors import NearestCentroid\n",
    "from sklearn.ensemble import RandomForestClassifier\n",
    "from sklearn.neural_network import MLPClassifier\n",
    "from sklearn.multiclass import OneVsRestClassifier\n",
    "from sklearn.tree import DecisionTreeClassifier\n",
    "from sklearn.neighbors import KNeighborsClassifier\n",
    "from sklearn.discriminant_analysis import LinearDiscriminantAnalysis\n",
    "from sklearn.naive_bayes import GaussianNB\n",
    "from sklearn.naive_bayes import MultinomialNB\n",
    "from sklearn.model_selection import cross_val_score\n",
    "\n",
    "model_a_tester = []\n",
    "\n",
    "model_a_tester.append(('LR', LogisticRegression(penalty='l2', C=2, random_state=0)))\n",
    "model_a_tester.append(('LDA', LinearDiscriminantAnalysis()))\n",
    "model_a_tester.append(('CART', DecisionTreeClassifier()))\n",
    "model_a_tester.append(('RandomForest', RandomForestClassifier(n_estimators=1000, max_depth=10, random_state=42)))\n",
    "model_a_tester.append(('KNN', KNeighborsClassifier(n_neighbors=10)))\n",
    "model_a_tester.append(('NearestCentroid', NearestCentroid()))\n",
    "model_a_tester.append(('SVC', SVC()))\n",
    "model_a_tester.append(('SVCL', SVC(kernel='linear')))\n",
    "model_a_tester.append(('LinearSVC', LinearSVC(penalty='l2', C=2)))\n",
    "model_a_tester.append(('SGDC', SGDClassifier(alpha=.001, max_iter=50, penalty=\"l2\")))\n",
    "model_a_tester.append(('NB', GaussianNB()))\n",
    "model_a_tester.append(('MultinomialNB', MultinomialNB(alpha=.01)))\n",
    "model_a_tester.append(('BernoulliNB', BernoulliNB(alpha=.01)))\n",
    "model_a_tester.append(('RidgeClassifier', RidgeClassifier(tol=1e-2, solver=\"lsqr\")))\n",
    "model_a_tester.append(('PassiveAggressiveClassifier', PassiveAggressiveClassifier(max_iter=50)))\n",
    "model_a_tester.append(('Perceptron', Perceptron(max_iter=50)))\n",
    "model_a_tester.append(('MLP', MLPClassifier(hidden_layer_sizes=(30, 30, 30), random_state=42)))\n",
    "CV = 10\n",
    "cv_score = pd.DataFrame(index=range(CV * len(model_a_tester)))\n",
    "entries = []\n",
    "for name, model in model_a_tester:\n",
    "    model_name = name\n",
    "    print(\"Test en cours :\")\n",
    "    print(model_name)\n",
    "    accuracies = cross_val_score(model, X_train, y_train, scoring='accuracy', cv=CV, n_jobs=-1)\n",
    "    for fold_idx, accuracy in enumerate(accuracies):\n",
    "        entries.append((model_name, fold_idx, accuracy))\n",
    "cv_score = pd.DataFrame(entries, columns=['model_name', 'fold_idx', 'accuracy'])\n",
    "\n",
    "models_v = ['LR', 'RandomForest', 'XGBoost', 'SVC', 'SVCL', 'LinearSVC', 'BernoulliNB', 'MLP']\n",
    "cv_score_v = cv_score[cv_score.model_name.isin(models_v)]\n",
    "\n",
    "# Graphique comparatif\n",
    "sns.boxplot(x='model_name', y='accuracy', data=cv_score)\n",
    "plt.xticks(rotation=90)\n",
    "sns.stripplot(x='model_name', y='accuracy', data=cv_score,\n",
    "              size=8, jitter=True, edgecolor=\"gray\", linewidth=2)\n",
    "plt.tight_layout()\n",
    "plt.show()\n"
   ]
  },
  {
   "cell_type": "code",
   "execution_count": 105,
   "metadata": {},
   "outputs": [],
   "source": [
    "models_mean = cv_score.groupby('model_name').accuracy.mean()\n",
    "models_std = cv_score.groupby('model_name').accuracy.std()"
   ]
  },
  {
   "cell_type": "code",
   "execution_count": 107,
   "metadata": {},
   "outputs": [
    {
     "data": {
      "text/plain": [
       "model_name\n",
       "BernoulliNB                    0.791693\n",
       "CART                           0.797617\n",
       "KNN                            0.697285\n",
       "LDA                            0.805695\n",
       "LR                             0.811775\n",
       "LinearSVC                      0.679246\n",
       "MLP                            0.675645\n",
       "MultinomialNB                  0.709565\n",
       "NB                             0.781733\n",
       "NearestCentroid                0.663362\n",
       "PassiveAggressiveClassifier    0.717850\n",
       "Perceptron                     0.652996\n",
       "RandomForest                   0.823618\n",
       "RidgeClassifier                0.639477\n",
       "SGDC                           0.683525\n",
       "SVC                            0.693281\n",
       "SVCL                           0.791693\n",
       "Name: accuracy, dtype: float64"
      ]
     },
     "execution_count": 107,
     "metadata": {},
     "output_type": "execute_result"
    }
   ],
   "source": [
    "models_mean"
   ]
  },
  {
   "cell_type": "markdown",
   "metadata": {},
   "source": [
    "On remarque bien que RandomForest est le meilleur des modèles et un des plus stables.\n",
    "\n",
    "## Optimiser les paramètres de notre modèle\n",
    "\n",
    "Après avoir choisi notre modèle, il est de notre devoir d'optimiser ses \"hyperparamètres\". \n",
    "Pour cela, on utilise GridSearchCV qui va nous permettre de tester des intervalles de paramètres afin d'en sortir les meilleurs !"
   ]
  },
  {
   "cell_type": "code",
   "execution_count": 114,
   "metadata": {},
   "outputs": [],
   "source": [
    "from sklearn.model_selection import GridSearchCV\n",
    "CV = 5\n",
    "parametre_a_tester = {\n",
    "    #Nombre d'arbres à créer\n",
    "    'n_estimators' : [10,100,500,1000],\n",
    "    # Profondeur max de l'arbre\n",
    "    'max_depth': [2, 3, 4, 6, 10],\n",
    "    # Minimum pour split un noeud\n",
    "    'min_samples_split': [10, 40, 100, 200]\n",
    "}\n",
    "grid_search = GridSearchCV(estimator = RandomForestClassifier(random_state = 42),\n",
    "                           cv = CV,\n",
    "                           n_jobs = -1, # Utilise toutes les coeurs CPU\n",
    "                           verbose=10,\n",
    "                           param_grid = parametre_a_tester\n",
    "                          )"
   ]
  },
  {
   "cell_type": "markdown",
   "metadata": {},
   "source": [
    "On lance la recherche :"
   ]
  },
  {
   "cell_type": "code",
   "execution_count": 115,
   "metadata": {},
   "outputs": [
    {
     "name": "stdout",
     "output_type": "stream",
     "text": [
      "Fitting 5 folds for each of 80 candidates, totalling 400 fits\n",
      "[CV] max_depth=2, min_samples_split=10, n_estimators=10 ..............\n",
      "[CV] max_depth=2, min_samples_split=10, n_estimators=10 ..............\n",
      "[CV] max_depth=2, min_samples_split=10, n_estimators=10 ..............\n",
      "[CV] max_depth=2, min_samples_split=10, n_estimators=10 ..............\n",
      "[CV] max_depth=2, min_samples_split=10, n_estimators=10 ..............\n",
      "[CV] max_depth=2, min_samples_split=10, n_estimators=100 .............\n",
      "[CV]  max_depth=2, min_samples_split=10, n_estimators=10, score=0.7623762376237624, total=   0.0s\n",
      "[CV] max_depth=2, min_samples_split=10, n_estimators=100 .............\n",
      "[CV]  max_depth=2, min_samples_split=10, n_estimators=10, score=0.74, total=   0.0s\n",
      "[CV]  max_depth=2, min_samples_split=10, n_estimators=10, score=0.84, total=   0.0s\n",
      "[CV] max_depth=2, min_samples_split=10, n_estimators=100 .............\n",
      "[CV] max_depth=2, min_samples_split=10, n_estimators=100 .............\n",
      "[CV]  max_depth=2, min_samples_split=10, n_estimators=10, score=0.8080808080808081, total=   0.0s\n",
      "[CV] max_depth=2, min_samples_split=10, n_estimators=100 .............\n",
      "[CV] max_depth=2, min_samples_split=10, n_estimators=500 .............\n",
      "[CV]  max_depth=2, min_samples_split=10, n_estimators=10, score=0.7575757575757576, total=   0.0s\n",
      "[CV] max_depth=2, min_samples_split=10, n_estimators=500 .............\n",
      "[CV] max_depth=2, min_samples_split=10, n_estimators=500 .............\n"
     ]
    },
    {
     "name": "stderr",
     "output_type": "stream",
     "text": [
      "[Parallel(n_jobs=-1)]: Batch computation too fast (0.0738s.) Setting batch_size=4.\n",
      "[Parallel(n_jobs=-1)]: Done   2 tasks      | elapsed:    0.1s\n"
     ]
    },
    {
     "name": "stdout",
     "output_type": "stream",
     "text": [
      "[CV]  max_depth=2, min_samples_split=10, n_estimators=100, score=0.7623762376237624, total=   0.2s\n",
      "[CV]  max_depth=2, min_samples_split=10, n_estimators=100, score=0.8181818181818182, total=   0.2s\n",
      "[CV]  max_depth=2, min_samples_split=10, n_estimators=100, score=0.75, total=   0.2s\n",
      "[CV] max_depth=2, min_samples_split=10, n_estimators=500 .............\n",
      "[CV] max_depth=2, min_samples_split=10, n_estimators=500 .............\n",
      "[CV] max_depth=2, min_samples_split=10, n_estimators=1000 ............\n",
      "[CV]  max_depth=2, min_samples_split=10, n_estimators=100, score=0.7575757575757576, total=   0.2s\n",
      "[CV]  max_depth=2, min_samples_split=10, n_estimators=100, score=0.83, total=   0.2s\n",
      "[CV] max_depth=2, min_samples_split=10, n_estimators=1000 ............\n",
      "[CV] max_depth=2, min_samples_split=40, n_estimators=10 ..............\n",
      "[CV]  max_depth=2, min_samples_split=40, n_estimators=10, score=0.7623762376237624, total=   0.0s\n",
      "[CV] max_depth=2, min_samples_split=40, n_estimators=10 ..............\n",
      "[CV]  max_depth=2, min_samples_split=40, n_estimators=10, score=0.74, total=   0.0s\n",
      "[CV] max_depth=2, min_samples_split=40, n_estimators=10 ..............\n",
      "[CV]  max_depth=2, min_samples_split=40, n_estimators=10, score=0.84, total=   0.0s\n",
      "[CV] max_depth=2, min_samples_split=40, n_estimators=10 ..............\n",
      "[CV]  max_depth=2, min_samples_split=40, n_estimators=10, score=0.8080808080808081, total=   0.0s\n",
      "[CV] max_depth=2, min_samples_split=40, n_estimators=10 ..............\n",
      "[CV]  max_depth=2, min_samples_split=40, n_estimators=10, score=0.7575757575757576, total=   0.0s\n",
      "[CV] max_depth=2, min_samples_split=40, n_estimators=100 .............\n"
     ]
    },
    {
     "name": "stderr",
     "output_type": "stream",
     "text": [
      "[Parallel(n_jobs=-1)]: Done   9 tasks      | elapsed:    0.3s\n"
     ]
    },
    {
     "name": "stdout",
     "output_type": "stream",
     "text": [
      "[CV]  max_depth=2, min_samples_split=40, n_estimators=100, score=0.7623762376237624, total=   0.2s\n",
      "[CV] max_depth=2, min_samples_split=40, n_estimators=100 .............\n",
      "[CV]  max_depth=2, min_samples_split=40, n_estimators=100, score=0.75, total=   0.2s\n",
      "[CV] max_depth=2, min_samples_split=40, n_estimators=100 .............\n",
      "[CV]  max_depth=2, min_samples_split=40, n_estimators=100, score=0.84, total=   0.2s\n",
      "[CV] max_depth=2, min_samples_split=40, n_estimators=100 .............\n",
      "[CV]  max_depth=2, min_samples_split=10, n_estimators=500, score=0.7623762376237624, total=   1.0s\n",
      "[CV] max_depth=2, min_samples_split=40, n_estimators=500 .............\n",
      "[CV]  max_depth=2, min_samples_split=10, n_estimators=500, score=0.83, total=   0.9s\n",
      "[CV]  max_depth=2, min_samples_split=10, n_estimators=500, score=0.76, total=   1.0s\n",
      "[CV] max_depth=2, min_samples_split=40, n_estimators=1000 ............\n",
      "[CV] max_depth=2, min_samples_split=100, n_estimators=10 .............\n",
      "[CV]  max_depth=2, min_samples_split=100, n_estimators=10, score=0.7425742574257426, total=   0.0s\n",
      "[CV] max_depth=2, min_samples_split=100, n_estimators=10 .............\n",
      "[CV]  max_depth=2, min_samples_split=100, n_estimators=10, score=0.75, total=   0.0s\n",
      "[CV] max_depth=2, min_samples_split=100, n_estimators=10 .............\n",
      "[CV]  max_depth=2, min_samples_split=100, n_estimators=10, score=0.84, total=   0.0s\n",
      "[CV] max_depth=2, min_samples_split=100, n_estimators=10 .............\n",
      "[CV]  max_depth=2, min_samples_split=100, n_estimators=10, score=0.797979797979798, total=   0.0s\n",
      "[CV] max_depth=2, min_samples_split=100, n_estimators=10 .............\n",
      "[CV]  max_depth=2, min_samples_split=40, n_estimators=100, score=0.797979797979798, total=   0.2s\n",
      "[CV] max_depth=2, min_samples_split=40, n_estimators=100 .............\n",
      "[CV]  max_depth=2, min_samples_split=100, n_estimators=10, score=0.7575757575757576, total=   0.0s\n",
      "[CV]  max_depth=2, min_samples_split=10, n_estimators=500, score=0.7878787878787878, total=   1.0s\n",
      "[CV] max_depth=2, min_samples_split=100, n_estimators=100 ............\n",
      "[CV] max_depth=2, min_samples_split=100, n_estimators=100 ............\n",
      "[CV]  max_depth=2, min_samples_split=10, n_estimators=500, score=0.8181818181818182, total=   1.0s\n",
      "[CV] max_depth=2, min_samples_split=100, n_estimators=500 ............\n"
     ]
    },
    {
     "name": "stderr",
     "output_type": "stream",
     "text": [
      "[Parallel(n_jobs=-1)]: Done  25 tasks      | elapsed:    1.3s\n"
     ]
    },
    {
     "name": "stdout",
     "output_type": "stream",
     "text": [
      "[CV]  max_depth=2, min_samples_split=100, n_estimators=100, score=0.7623762376237624, total=   0.2s\n",
      "[CV] max_depth=2, min_samples_split=100, n_estimators=100 ............\n",
      "[CV]  max_depth=2, min_samples_split=100, n_estimators=100, score=0.8181818181818182, total=   0.2s\n",
      "[CV]  max_depth=2, min_samples_split=40, n_estimators=100, score=0.7777777777777778, total=   0.2s\n",
      "[CV] max_depth=2, min_samples_split=100, n_estimators=100 ............\n",
      "[CV] max_depth=2, min_samples_split=40, n_estimators=500 .............\n",
      "[CV]  max_depth=2, min_samples_split=100, n_estimators=100, score=0.76, total=   0.2s\n",
      "[CV]  max_depth=2, min_samples_split=100, n_estimators=100, score=0.797979797979798, total=   0.2s\n",
      "[CV] max_depth=2, min_samples_split=100, n_estimators=100 ............\n",
      "[CV] max_depth=2, min_samples_split=100, n_estimators=500 ............\n",
      "[CV]  max_depth=2, min_samples_split=100, n_estimators=100, score=0.83, total=   0.2s\n",
      "[CV] max_depth=2, min_samples_split=100, n_estimators=1000 ...........\n",
      "[CV]  max_depth=2, min_samples_split=40, n_estimators=500, score=0.83, total=   1.0s\n",
      "[CV] max_depth=2, min_samples_split=40, n_estimators=500 .............\n",
      "[CV]  max_depth=2, min_samples_split=10, n_estimators=1000, score=0.7623762376237624, total=   1.9s\n",
      "[CV] max_depth=2, min_samples_split=200, n_estimators=10 .............\n",
      "[CV]  max_depth=2, min_samples_split=10, n_estimators=1000, score=0.76, total=   1.9s\n",
      "[CV] max_depth=2, min_samples_split=10, n_estimators=1000 ............\n",
      "[CV]  max_depth=2, min_samples_split=100, n_estimators=500, score=0.83, total=   0.9s\n",
      "[CV]  max_depth=2, min_samples_split=200, n_estimators=10, score=0.7722772277227723, total=   0.0s\n",
      "[CV] max_depth=2, min_samples_split=100, n_estimators=500 ............\n",
      "[CV] max_depth=2, min_samples_split=200, n_estimators=10 .............\n",
      "[CV]  max_depth=2, min_samples_split=200, n_estimators=10, score=0.75, total=   0.0s\n",
      "[CV] max_depth=2, min_samples_split=200, n_estimators=10 .............\n",
      "[CV]  max_depth=2, min_samples_split=200, n_estimators=10, score=0.82, total=   0.0s\n",
      "[CV] max_depth=2, min_samples_split=200, n_estimators=10 .............\n",
      "[CV]  max_depth=2, min_samples_split=200, n_estimators=10, score=0.7373737373737373, total=   0.0s\n",
      "[CV] max_depth=2, min_samples_split=200, n_estimators=10 .............\n",
      "[CV]  max_depth=2, min_samples_split=200, n_estimators=10, score=0.797979797979798, total=   0.0s\n",
      "[CV] max_depth=2, min_samples_split=200, n_estimators=100 ............\n",
      "[CV]  max_depth=2, min_samples_split=40, n_estimators=500, score=0.7623762376237624, total=   1.0s\n",
      "[CV] max_depth=2, min_samples_split=40, n_estimators=500 .............\n",
      "[CV]  max_depth=2, min_samples_split=200, n_estimators=100, score=0.7821782178217822, total=   0.2s\n",
      "[CV] max_depth=2, min_samples_split=200, n_estimators=100 ............\n",
      "[CV]  max_depth=2, min_samples_split=100, n_estimators=500, score=0.7623762376237624, total=   1.0s\n",
      "[CV] max_depth=2, min_samples_split=100, n_estimators=500 ............\n",
      "[CV]  max_depth=2, min_samples_split=200, n_estimators=100, score=0.75, total=   0.2s\n",
      "[CV] max_depth=2, min_samples_split=200, n_estimators=100 ............\n",
      "[CV]  max_depth=2, min_samples_split=200, n_estimators=100, score=0.83, total=   0.2s\n",
      "[CV] max_depth=2, min_samples_split=200, n_estimators=100 ............\n",
      "[CV]  max_depth=2, min_samples_split=40, n_estimators=500, score=0.8181818181818182, total=   1.0s\n",
      "[CV] max_depth=2, min_samples_split=40, n_estimators=500 .............\n",
      "[CV]  max_depth=2, min_samples_split=40, n_estimators=1000, score=0.76, total=   1.9s\n",
      "[CV] max_depth=2, min_samples_split=40, n_estimators=1000 ............\n",
      "[CV]  max_depth=2, min_samples_split=200, n_estimators=100, score=0.797979797979798, total=   0.2s\n",
      "[CV] max_depth=2, min_samples_split=200, n_estimators=100 ............\n",
      "[CV]  max_depth=2, min_samples_split=100, n_estimators=500, score=0.8181818181818182, total=   1.0s\n",
      "[CV] max_depth=2, min_samples_split=100, n_estimators=500 ............\n",
      "[CV]  max_depth=2, min_samples_split=200, n_estimators=100, score=0.7575757575757576, total=   0.2s\n",
      "[CV] max_depth=2, min_samples_split=200, n_estimators=500 ............\n",
      "[CV]  max_depth=2, min_samples_split=40, n_estimators=500, score=0.76, total=   0.9s\n",
      "[CV] max_depth=2, min_samples_split=200, n_estimators=500 ............\n",
      "[CV]  max_depth=2, min_samples_split=100, n_estimators=500, score=0.76, total=   1.0s\n",
      "[CV] max_depth=2, min_samples_split=200, n_estimators=1000 ...........\n",
      "[CV]  max_depth=2, min_samples_split=100, n_estimators=1000, score=0.76, total=   1.9s\n",
      "[CV] max_depth=2, min_samples_split=100, n_estimators=1000 ...........\n"
     ]
    },
    {
     "name": "stderr",
     "output_type": "stream",
     "text": [
      "[Parallel(n_jobs=-1)]: Batch computation too slow (2.0134s.) Setting batch_size=2.\n"
     ]
    },
    {
     "name": "stdout",
     "output_type": "stream",
     "text": [
      "[CV]  max_depth=2, min_samples_split=40, n_estimators=500, score=0.7878787878787878, total=   1.1s\n",
      "[CV] max_depth=2, min_samples_split=40, n_estimators=1000 ............\n",
      "[CV]  max_depth=2, min_samples_split=10, n_estimators=1000, score=0.83, total=   2.0s\n",
      "[CV] max_depth=2, min_samples_split=10, n_estimators=1000 ............\n",
      "[CV]  max_depth=2, min_samples_split=100, n_estimators=500, score=0.7878787878787878, total=   1.1s\n",
      "[CV] max_depth=2, min_samples_split=100, n_estimators=1000 ...........\n",
      "[CV]  max_depth=2, min_samples_split=200, n_estimators=500, score=0.7623762376237624, total=   1.1s\n",
      "[CV] max_depth=2, min_samples_split=200, n_estimators=500 ............\n",
      "[CV]  max_depth=2, min_samples_split=200, n_estimators=500, score=0.83, total=   1.0s\n",
      "[CV] max_depth=2, min_samples_split=200, n_estimators=500 ............\n",
      "[CV]  max_depth=2, min_samples_split=40, n_estimators=1000, score=0.83, total=   1.9s\n",
      "[CV] max_depth=2, min_samples_split=40, n_estimators=1000 ............\n",
      "[CV]  max_depth=2, min_samples_split=200, n_estimators=500, score=0.76, total=   0.8s\n",
      "[CV] max_depth=3, min_samples_split=10, n_estimators=10 ..............\n",
      "[CV]  max_depth=3, min_samples_split=10, n_estimators=10, score=0.7623762376237624, total=   0.0s\n",
      "[CV] max_depth=3, min_samples_split=10, n_estimators=10 ..............\n",
      "[CV]  max_depth=2, min_samples_split=200, n_estimators=500, score=0.8181818181818182, total=   0.8s\n",
      "[CV]  max_depth=3, min_samples_split=10, n_estimators=10, score=0.77, total=   0.0s\n",
      "[CV] max_depth=2, min_samples_split=200, n_estimators=500 ............\n",
      "[CV] max_depth=3, min_samples_split=10, n_estimators=10 ..............\n",
      "[CV]  max_depth=3, min_samples_split=10, n_estimators=10, score=0.85, total=   0.0s\n",
      "[CV] max_depth=3, min_samples_split=10, n_estimators=10 ..............\n",
      "[CV]  max_depth=3, min_samples_split=10, n_estimators=10, score=0.797979797979798, total=   0.0s\n",
      "[CV] max_depth=3, min_samples_split=10, n_estimators=10 ..............\n",
      "[CV]  max_depth=3, min_samples_split=10, n_estimators=10, score=0.7878787878787878, total=   0.0s\n",
      "[CV] max_depth=3, min_samples_split=10, n_estimators=100 .............\n"
     ]
    },
    {
     "name": "stderr",
     "output_type": "stream",
     "text": [
      "[Parallel(n_jobs=-1)]: Done  52 tasks      | elapsed:    5.5s\n"
     ]
    },
    {
     "name": "stdout",
     "output_type": "stream",
     "text": [
      "[CV]  max_depth=2, min_samples_split=200, n_estimators=1000, score=0.76, total=   1.8s\n",
      "[CV] max_depth=2, min_samples_split=200, n_estimators=1000 ...........\n",
      "[CV]  max_depth=3, min_samples_split=10, n_estimators=100, score=0.7722772277227723, total=   0.2s\n",
      "[CV] max_depth=3, min_samples_split=10, n_estimators=100 .............\n",
      "[CV]  max_depth=2, min_samples_split=100, n_estimators=1000, score=0.83, total=   1.8s\n",
      "[CV] max_depth=2, min_samples_split=100, n_estimators=1000 ...........\n",
      "[CV]  max_depth=3, min_samples_split=10, n_estimators=100, score=0.8, total=   0.2s\n",
      "[CV] max_depth=3, min_samples_split=10, n_estimators=100 .............\n",
      "[CV]  max_depth=2, min_samples_split=40, n_estimators=1000, score=0.7623762376237624, total=   1.7s\n",
      "[CV] max_depth=3, min_samples_split=10, n_estimators=100 .............\n",
      "[CV]  max_depth=3, min_samples_split=10, n_estimators=100, score=0.86, total=   0.2s\n",
      "[CV] max_depth=3, min_samples_split=10, n_estimators=500 .............\n",
      "[CV]  max_depth=2, min_samples_split=10, n_estimators=1000, score=0.8181818181818182, total=   1.6s\n",
      "[CV] max_depth=2, min_samples_split=10, n_estimators=1000 ............\n",
      "[CV]  max_depth=2, min_samples_split=100, n_estimators=1000, score=0.7623762376237624, total=   1.6s\n",
      "[CV] max_depth=3, min_samples_split=10, n_estimators=1000 ............\n",
      "[CV]  max_depth=3, min_samples_split=10, n_estimators=100, score=0.8282828282828283, total=   0.2s\n",
      "[CV] max_depth=3, min_samples_split=10, n_estimators=100 .............\n",
      "[CV]  max_depth=2, min_samples_split=200, n_estimators=500, score=0.7878787878787878, total=   0.9s\n",
      "[CV] max_depth=2, min_samples_split=200, n_estimators=1000 ...........\n",
      "[CV]  max_depth=3, min_samples_split=10, n_estimators=100, score=0.8080808080808081, total=   0.2s\n",
      "[CV] max_depth=3, min_samples_split=10, n_estimators=500 .............\n",
      "[CV]  max_depth=2, min_samples_split=40, n_estimators=1000, score=0.8181818181818182, total=   1.8s\n",
      "[CV] max_depth=2, min_samples_split=40, n_estimators=1000 ............\n",
      "[CV]  max_depth=3, min_samples_split=10, n_estimators=500, score=0.88, total=   0.9s\n",
      "[CV] max_depth=3, min_samples_split=10, n_estimators=500 .............\n",
      "[CV]  max_depth=3, min_samples_split=10, n_estimators=500, score=0.7623762376237624, total=   0.9s\n",
      "[CV] max_depth=3, min_samples_split=10, n_estimators=500 .............\n",
      "[CV]  max_depth=2, min_samples_split=200, n_estimators=1000, score=0.83, total=   1.8s\n",
      "[CV] max_depth=2, min_samples_split=200, n_estimators=1000 ...........\n",
      "[CV]  max_depth=2, min_samples_split=100, n_estimators=1000, score=0.8181818181818182, total=   1.9s\n",
      "[CV] max_depth=2, min_samples_split=100, n_estimators=1000 ...........\n",
      "[CV]  max_depth=3, min_samples_split=10, n_estimators=500, score=0.8181818181818182, total=   1.0s\n",
      "[CV] max_depth=3, min_samples_split=10, n_estimators=500 .............\n",
      "[CV]  max_depth=2, min_samples_split=10, n_estimators=1000, score=0.7878787878787878, total=   1.9s\n",
      "[CV] max_depth=3, min_samples_split=40, n_estimators=10 ..............\n",
      "[CV]  max_depth=3, min_samples_split=40, n_estimators=10, score=0.7623762376237624, total=   0.0s\n",
      "[CV] max_depth=3, min_samples_split=40, n_estimators=10 ..............\n",
      "[CV]  max_depth=3, min_samples_split=40, n_estimators=10, score=0.77, total=   0.0s\n",
      "[CV] max_depth=3, min_samples_split=40, n_estimators=10 ..............\n",
      "[CV]  max_depth=3, min_samples_split=10, n_estimators=1000, score=0.8, total=   1.9s\n",
      "[CV] max_depth=3, min_samples_split=10, n_estimators=1000 ............\n",
      "[CV]  max_depth=3, min_samples_split=40, n_estimators=10, score=0.85, total=   0.0s\n",
      "[CV] max_depth=3, min_samples_split=40, n_estimators=10 ..............\n",
      "[CV]  max_depth=3, min_samples_split=40, n_estimators=10, score=0.7777777777777778, total=   0.0s\n",
      "[CV] max_depth=3, min_samples_split=40, n_estimators=10 ..............\n",
      "[CV]  max_depth=3, min_samples_split=40, n_estimators=10, score=0.7878787878787878, total=   0.0s\n",
      "[CV] max_depth=3, min_samples_split=40, n_estimators=100 .............\n",
      "[CV]  max_depth=2, min_samples_split=200, n_estimators=1000, score=0.7623762376237624, total=   1.9s\n",
      "[CV] max_depth=3, min_samples_split=40, n_estimators=100 .............\n",
      "[CV]  max_depth=3, min_samples_split=10, n_estimators=500, score=0.79, total=   1.1s\n",
      "[CV] max_depth=3, min_samples_split=40, n_estimators=500 .............\n",
      "[CV]  max_depth=3, min_samples_split=40, n_estimators=100, score=0.7623762376237624, total=   0.2s\n",
      "[CV] max_depth=3, min_samples_split=40, n_estimators=100 .............\n",
      "[CV]  max_depth=3, min_samples_split=40, n_estimators=100, score=0.8080808080808081, total=   0.3s\n",
      "[CV] max_depth=3, min_samples_split=40, n_estimators=100 .............\n",
      "[CV]  max_depth=3, min_samples_split=40, n_estimators=100, score=0.76, total=   0.2s\n",
      "[CV] max_depth=3, min_samples_split=40, n_estimators=100 .............\n",
      "[CV]  max_depth=3, min_samples_split=40, n_estimators=100, score=0.7777777777777778, total=   0.2s\n",
      "[CV] max_depth=3, min_samples_split=40, n_estimators=500 .............\n"
     ]
    },
    {
     "name": "stderr",
     "output_type": "stream",
     "text": [
      "[Parallel(n_jobs=-1)]: Done  86 tasks      | elapsed:    9.2s\n",
      "[Parallel(n_jobs=-1)]: Batch computation too slow (5.2740s.) Setting batch_size=1.\n"
     ]
    },
    {
     "name": "stdout",
     "output_type": "stream",
     "text": [
      "[CV]  max_depth=3, min_samples_split=40, n_estimators=100, score=0.85, total=   0.2s\n",
      "[CV] max_depth=3, min_samples_split=40, n_estimators=500 .............\n",
      "[CV]  max_depth=2, min_samples_split=40, n_estimators=1000, score=0.7878787878787878, total=   2.1s\n",
      "[CV] max_depth=3, min_samples_split=40, n_estimators=1000 ............\n",
      "[CV]  max_depth=3, min_samples_split=10, n_estimators=500, score=0.797979797979798, total=   1.2s\n",
      "[CV] max_depth=3, min_samples_split=10, n_estimators=1000 ............\n",
      "[CV]  max_depth=3, min_samples_split=40, n_estimators=500, score=0.7524752475247525, total=   1.1s\n",
      "[CV] max_depth=3, min_samples_split=40, n_estimators=500 .............\n",
      "[CV]  max_depth=2, min_samples_split=200, n_estimators=1000, score=0.8181818181818182, total=   2.2s\n",
      "[CV] max_depth=2, min_samples_split=200, n_estimators=1000 ...........\n",
      "[CV]  max_depth=2, min_samples_split=100, n_estimators=1000, score=0.7878787878787878, total=   2.2s\n",
      "[CV] max_depth=3, min_samples_split=40, n_estimators=1000 ............\n",
      "[CV]  max_depth=3, min_samples_split=40, n_estimators=500, score=0.85, total=   1.1s\n",
      "[CV] max_depth=3, min_samples_split=40, n_estimators=500 .............\n",
      "[CV]  max_depth=3, min_samples_split=40, n_estimators=500, score=0.7777777777777778, total=   1.1s\n",
      "[CV] max_depth=3, min_samples_split=40, n_estimators=1000 ............\n",
      "[CV]  max_depth=3, min_samples_split=10, n_estimators=1000, score=0.87, total=   2.2s\n",
      "[CV] max_depth=3, min_samples_split=10, n_estimators=1000 ............\n",
      "[CV]  max_depth=3, min_samples_split=40, n_estimators=500, score=0.76, total=   1.0s\n",
      "[CV] max_depth=3, min_samples_split=100, n_estimators=10 .............\n",
      "[CV]  max_depth=3, min_samples_split=100, n_estimators=10, score=0.7425742574257426, total=   0.0s\n",
      "[CV] max_depth=3, min_samples_split=100, n_estimators=10 .............\n",
      "[CV]  max_depth=3, min_samples_split=100, n_estimators=10, score=0.76, total=   0.0s\n",
      "[CV] max_depth=3, min_samples_split=100, n_estimators=10 .............\n",
      "[CV]  max_depth=3, min_samples_split=100, n_estimators=10, score=0.83, total=   0.0s\n",
      "[CV] max_depth=3, min_samples_split=100, n_estimators=10 .............\n",
      "[CV]  max_depth=3, min_samples_split=100, n_estimators=10, score=0.8181818181818182, total=   0.0s\n",
      "[CV] max_depth=3, min_samples_split=100, n_estimators=10 .............\n",
      "[CV]  max_depth=3, min_samples_split=100, n_estimators=10, score=0.7575757575757576, total=   0.0s\n",
      "[CV] max_depth=3, min_samples_split=100, n_estimators=100 ............\n",
      "[CV]  max_depth=3, min_samples_split=40, n_estimators=500, score=0.8181818181818182, total=   1.0s\n",
      "[CV] max_depth=3, min_samples_split=100, n_estimators=100 ............\n",
      "[CV]  max_depth=3, min_samples_split=100, n_estimators=100, score=0.7623762376237624, total=   0.2s\n",
      "[CV] max_depth=3, min_samples_split=100, n_estimators=100 ............\n",
      "[CV]  max_depth=3, min_samples_split=100, n_estimators=100, score=0.76, total=   0.2s\n",
      "[CV] max_depth=3, min_samples_split=100, n_estimators=100 ............\n",
      "[CV]  max_depth=3, min_samples_split=100, n_estimators=100, score=0.8181818181818182, total=   0.2s\n",
      "[CV] max_depth=3, min_samples_split=100, n_estimators=100 ............\n",
      "[CV]  max_depth=3, min_samples_split=40, n_estimators=1000, score=0.77, total=   2.1s\n",
      "[CV] max_depth=3, min_samples_split=40, n_estimators=1000 ............\n",
      "[CV]  max_depth=3, min_samples_split=10, n_estimators=1000, score=0.7623762376237624, total=   2.0s\n",
      "[CV] max_depth=3, min_samples_split=100, n_estimators=500 ............\n",
      "[CV]  max_depth=3, min_samples_split=100, n_estimators=100, score=0.83, total=   0.2s\n",
      "[CV] max_depth=3, min_samples_split=100, n_estimators=500 ............\n",
      "[CV]  max_depth=3, min_samples_split=100, n_estimators=100, score=0.797979797979798, total=   0.2s\n",
      "[CV] max_depth=3, min_samples_split=100, n_estimators=500 ............\n"
     ]
    },
    {
     "name": "stderr",
     "output_type": "stream",
     "text": [
      "[Parallel(n_jobs=-1)]: Done 115 tasks      | elapsed:   11.8s\n"
     ]
    },
    {
     "name": "stdout",
     "output_type": "stream",
     "text": [
      "[CV]  max_depth=2, min_samples_split=200, n_estimators=1000, score=0.7878787878787878, total=   2.0s\n",
      "[CV] max_depth=3, min_samples_split=100, n_estimators=500 ............\n",
      "[CV]  max_depth=3, min_samples_split=40, n_estimators=1000, score=0.8181818181818182, total=   2.0s\n",
      "[CV] max_depth=3, min_samples_split=40, n_estimators=1000 ............\n",
      "[CV]  max_depth=3, min_samples_split=40, n_estimators=1000, score=0.7524752475247525, total=   2.0s\n",
      "[CV] max_depth=3, min_samples_split=100, n_estimators=500 ............\n",
      "[CV]  max_depth=3, min_samples_split=100, n_estimators=500, score=0.7623762376237624, total=   1.0s\n",
      "[CV] max_depth=3, min_samples_split=100, n_estimators=1000 ...........\n",
      "[CV]  max_depth=3, min_samples_split=100, n_estimators=500, score=0.76, total=   1.0s\n",
      "[CV]  max_depth=3, min_samples_split=100, n_estimators=500, score=0.83, total=   0.9s\n",
      "[CV] max_depth=3, min_samples_split=100, n_estimators=1000 ...........\n",
      "[CV] max_depth=3, min_samples_split=100, n_estimators=1000 ...........\n",
      "[CV]  max_depth=3, min_samples_split=10, n_estimators=1000, score=0.8282828282828283, total=   2.0s\n",
      "[CV] max_depth=3, min_samples_split=10, n_estimators=1000 ............\n",
      "[CV]  max_depth=3, min_samples_split=100, n_estimators=500, score=0.8181818181818182, total=   0.9s\n",
      "[CV] max_depth=3, min_samples_split=100, n_estimators=1000 ...........\n",
      "[CV]  max_depth=3, min_samples_split=100, n_estimators=500, score=0.797979797979798, total=   0.9s\n",
      "[CV] max_depth=3, min_samples_split=100, n_estimators=1000 ...........\n",
      "[CV]  max_depth=3, min_samples_split=40, n_estimators=1000, score=0.86, total=   1.9s\n",
      "[CV] max_depth=3, min_samples_split=200, n_estimators=10 .............\n",
      "[CV]  max_depth=3, min_samples_split=200, n_estimators=10, score=0.7722772277227723, total=   0.0s\n",
      "[CV] max_depth=3, min_samples_split=200, n_estimators=10 .............\n",
      "[CV]  max_depth=3, min_samples_split=200, n_estimators=10, score=0.75, total=   0.0s\n",
      "[CV] max_depth=3, min_samples_split=200, n_estimators=10 .............\n",
      "[CV]  max_depth=3, min_samples_split=200, n_estimators=10, score=0.82, total=   0.0s\n",
      "[CV] max_depth=3, min_samples_split=200, n_estimators=10 .............\n",
      "[CV]  max_depth=3, min_samples_split=200, n_estimators=10, score=0.7373737373737373, total=   0.0s\n",
      "[CV] max_depth=3, min_samples_split=200, n_estimators=10 .............\n",
      "[CV]  max_depth=3, min_samples_split=200, n_estimators=10, score=0.797979797979798, total=   0.0s\n",
      "[CV] max_depth=3, min_samples_split=200, n_estimators=100 ............\n"
     ]
    },
    {
     "name": "stderr",
     "output_type": "stream",
     "text": [
      "[Parallel(n_jobs=-1)]: Done 131 tasks      | elapsed:   13.9s\n"
     ]
    },
    {
     "name": "stdout",
     "output_type": "stream",
     "text": [
      "[CV]  max_depth=3, min_samples_split=200, n_estimators=100, score=0.7821782178217822, total=   0.2s\n",
      "[CV] max_depth=3, min_samples_split=200, n_estimators=100 ............\n",
      "[CV]  max_depth=3, min_samples_split=200, n_estimators=100, score=0.75, total=   0.2s\n",
      "[CV] max_depth=3, min_samples_split=200, n_estimators=100 ............\n",
      "[CV]  max_depth=3, min_samples_split=40, n_estimators=1000, score=0.7777777777777778, total=   1.9s\n",
      "[CV] max_depth=3, min_samples_split=200, n_estimators=100 ............\n",
      "[CV]  max_depth=3, min_samples_split=200, n_estimators=100, score=0.83, total=   0.2s\n",
      "[CV] max_depth=3, min_samples_split=200, n_estimators=100 ............\n",
      "[CV]  max_depth=3, min_samples_split=200, n_estimators=100, score=0.797979797979798, total=   0.2s\n",
      "[CV] max_depth=3, min_samples_split=200, n_estimators=500 ............\n",
      "[CV]  max_depth=3, min_samples_split=200, n_estimators=100, score=0.7575757575757576, total=   0.2s\n",
      "[CV] max_depth=3, min_samples_split=200, n_estimators=500 ............\n",
      "[CV]  max_depth=3, min_samples_split=100, n_estimators=1000, score=0.7623762376237624, total=   1.9s\n",
      "[CV] max_depth=3, min_samples_split=200, n_estimators=500 ............\n",
      "[CV]  max_depth=3, min_samples_split=100, n_estimators=1000, score=0.83, total=   1.9s\n",
      "[CV] max_depth=3, min_samples_split=200, n_estimators=500 ............\n",
      "[CV]  max_depth=3, min_samples_split=100, n_estimators=1000, score=0.76, total=   1.8s\n",
      "[CV] max_depth=3, min_samples_split=200, n_estimators=500 ............\n",
      "[CV]  max_depth=3, min_samples_split=10, n_estimators=1000, score=0.797979797979798, total=   1.9s\n",
      "[CV] max_depth=3, min_samples_split=200, n_estimators=1000 ...........\n",
      "[CV]  max_depth=3, min_samples_split=100, n_estimators=1000, score=0.8181818181818182, total=   1.9s\n",
      "[CV] max_depth=3, min_samples_split=200, n_estimators=1000 ...........\n"
     ]
    },
    {
     "name": "stderr",
     "output_type": "stream",
     "text": [
      "[Parallel(n_jobs=-1)]: Done 148 tasks      | elapsed:   15.1s\n"
     ]
    },
    {
     "name": "stdout",
     "output_type": "stream",
     "text": [
      "[CV]  max_depth=3, min_samples_split=200, n_estimators=500, score=0.7623762376237624, total=   1.0s\n",
      "[CV] max_depth=3, min_samples_split=200, n_estimators=1000 ...........\n",
      "[CV]  max_depth=3, min_samples_split=100, n_estimators=1000, score=0.797979797979798, total=   2.0s\n",
      "[CV] max_depth=3, min_samples_split=200, n_estimators=1000 ...........\n",
      "[CV]  max_depth=3, min_samples_split=200, n_estimators=500, score=0.76, total=   1.0s\n",
      "[CV] max_depth=3, min_samples_split=200, n_estimators=1000 ...........\n",
      "[CV]  max_depth=3, min_samples_split=200, n_estimators=500, score=0.83, total=   1.0s\n",
      "[CV] max_depth=4, min_samples_split=10, n_estimators=10 ..............\n",
      "[CV]  max_depth=3, min_samples_split=200, n_estimators=500, score=0.8181818181818182, total=   1.0s\n",
      "[CV] max_depth=4, min_samples_split=10, n_estimators=10 ..............\n",
      "[CV]  max_depth=4, min_samples_split=10, n_estimators=10, score=0.7821782178217822, total=   0.0s\n",
      "[CV] max_depth=4, min_samples_split=10, n_estimators=10 ..............\n",
      "[CV]  max_depth=4, min_samples_split=10, n_estimators=10, score=0.82, total=   0.0s\n",
      "[CV] max_depth=4, min_samples_split=10, n_estimators=10 ..............\n",
      "[CV]  max_depth=3, min_samples_split=200, n_estimators=500, score=0.7878787878787878, total=   1.0s\n",
      "[CV] max_depth=4, min_samples_split=10, n_estimators=10 ..............\n",
      "[CV]  max_depth=4, min_samples_split=10, n_estimators=10, score=0.84, total=   0.0s\n",
      "[CV] max_depth=4, min_samples_split=10, n_estimators=100 .............\n",
      "[CV]  max_depth=4, min_samples_split=10, n_estimators=10, score=0.8080808080808081, total=   0.0s\n",
      "[CV] max_depth=4, min_samples_split=10, n_estimators=100 .............\n",
      "[CV]  max_depth=4, min_samples_split=10, n_estimators=10, score=0.8181818181818182, total=   0.0s\n",
      "[CV] max_depth=4, min_samples_split=10, n_estimators=100 .............\n",
      "[CV]  max_depth=4, min_samples_split=10, n_estimators=100, score=0.7821782178217822, total=   0.2s\n",
      "[CV] max_depth=4, min_samples_split=10, n_estimators=100 .............\n",
      "[CV]  max_depth=4, min_samples_split=10, n_estimators=100, score=0.81, total=   0.2s\n",
      "[CV] max_depth=4, min_samples_split=10, n_estimators=100 .............\n",
      "[CV]  max_depth=4, min_samples_split=10, n_estimators=100, score=0.84, total=   0.2s\n",
      "[CV] max_depth=4, min_samples_split=10, n_estimators=500 .............\n"
     ]
    },
    {
     "name": "stderr",
     "output_type": "stream",
     "text": [
      "[Parallel(n_jobs=-1)]: Done 161 tasks      | elapsed:   16.2s\n"
     ]
    },
    {
     "name": "stdout",
     "output_type": "stream",
     "text": [
      "[CV]  max_depth=4, min_samples_split=10, n_estimators=100, score=0.8383838383838383, total=   0.2s\n",
      "[CV] max_depth=4, min_samples_split=10, n_estimators=500 .............\n",
      "[CV]  max_depth=4, min_samples_split=10, n_estimators=100, score=0.8282828282828283, total=   0.2s\n",
      "[CV] max_depth=4, min_samples_split=10, n_estimators=500 .............\n",
      "[CV]  max_depth=3, min_samples_split=200, n_estimators=1000, score=0.7623762376237624, total=   1.9s\n",
      "[CV] max_depth=4, min_samples_split=10, n_estimators=500 .............\n",
      "[CV]  max_depth=3, min_samples_split=200, n_estimators=1000, score=0.76, total=   1.9s\n",
      "[CV] max_depth=4, min_samples_split=10, n_estimators=500 .............\n",
      "[CV]  max_depth=4, min_samples_split=10, n_estimators=500, score=0.7821782178217822, total=   1.0s\n",
      "[CV] max_depth=4, min_samples_split=10, n_estimators=1000 ............\n",
      "[CV]  max_depth=4, min_samples_split=10, n_estimators=500, score=0.81, total=   1.0s\n",
      "[CV] max_depth=4, min_samples_split=10, n_estimators=1000 ............\n",
      "[CV]  max_depth=4, min_samples_split=10, n_estimators=500, score=0.86, total=   1.0s\n",
      "[CV] max_depth=4, min_samples_split=10, n_estimators=1000 ............\n",
      "[CV]  max_depth=3, min_samples_split=200, n_estimators=1000, score=0.83, total=   1.9s\n",
      "[CV] max_depth=4, min_samples_split=10, n_estimators=1000 ............\n",
      "[CV]  max_depth=3, min_samples_split=200, n_estimators=1000, score=0.7878787878787878, total=   1.9s\n",
      "[CV] max_depth=4, min_samples_split=10, n_estimators=1000 ............\n",
      "[CV]  max_depth=3, min_samples_split=200, n_estimators=1000, score=0.8181818181818182, total=   1.9s\n",
      "[CV] max_depth=4, min_samples_split=40, n_estimators=10 ..............\n",
      "[CV]  max_depth=4, min_samples_split=40, n_estimators=10, score=0.7425742574257426, total=   0.0s\n",
      "[CV] max_depth=4, min_samples_split=40, n_estimators=10 ..............\n",
      "[CV]  max_depth=4, min_samples_split=40, n_estimators=10, score=0.79, total=   0.0s\n",
      "[CV] max_depth=4, min_samples_split=40, n_estimators=10 ..............\n",
      "[CV]  max_depth=4, min_samples_split=40, n_estimators=10, score=0.82, total=   0.0s\n",
      "[CV] max_depth=4, min_samples_split=40, n_estimators=10 ..............\n",
      "[CV]  max_depth=4, min_samples_split=40, n_estimators=10, score=0.8383838383838383, total=   0.0s\n",
      "[CV] max_depth=4, min_samples_split=40, n_estimators=10 ..............\n",
      "[CV]  max_depth=4, min_samples_split=40, n_estimators=10, score=0.7878787878787878, total=   0.0s\n",
      "[CV] max_depth=4, min_samples_split=40, n_estimators=100 .............\n"
     ]
    },
    {
     "name": "stderr",
     "output_type": "stream",
     "text": [
      "[Parallel(n_jobs=-1)]: Done 176 tasks      | elapsed:   18.0s\n"
     ]
    },
    {
     "name": "stdout",
     "output_type": "stream",
     "text": [
      "[CV]  max_depth=4, min_samples_split=10, n_estimators=500, score=0.8383838383838383, total=   1.1s\n",
      "[CV] max_depth=4, min_samples_split=40, n_estimators=100 .............\n",
      "[CV]  max_depth=4, min_samples_split=40, n_estimators=100, score=0.7623762376237624, total=   0.2s\n",
      "[CV] max_depth=4, min_samples_split=40, n_estimators=100 .............\n",
      "[CV]  max_depth=4, min_samples_split=10, n_estimators=500, score=0.8181818181818182, total=   1.1s\n",
      "[CV] max_depth=4, min_samples_split=40, n_estimators=100 .............\n",
      "[CV]  max_depth=4, min_samples_split=40, n_estimators=100, score=0.77, total=   0.2s\n",
      "[CV] max_depth=4, min_samples_split=40, n_estimators=100 .............\n",
      "[CV]  max_depth=4, min_samples_split=40, n_estimators=100, score=0.85, total=   0.2s\n",
      "[CV] max_depth=4, min_samples_split=40, n_estimators=500 .............\n",
      "[CV]  max_depth=4, min_samples_split=40, n_estimators=100, score=0.8383838383838383, total=   0.2s\n",
      "[CV] max_depth=4, min_samples_split=40, n_estimators=500 .............\n",
      "[CV]  max_depth=4, min_samples_split=40, n_estimators=100, score=0.7878787878787878, total=   0.2s\n",
      "[CV] max_depth=4, min_samples_split=40, n_estimators=500 .............\n",
      "[CV]  max_depth=4, min_samples_split=10, n_estimators=1000, score=0.7821782178217822, total=   2.1s\n",
      "[CV] max_depth=4, min_samples_split=40, n_estimators=500 .............\n",
      "[CV]  max_depth=4, min_samples_split=40, n_estimators=500, score=0.7524752475247525, total=   0.9s\n",
      "[CV] max_depth=4, min_samples_split=40, n_estimators=500 .............\n",
      "[CV]  max_depth=4, min_samples_split=40, n_estimators=500, score=0.79, total=   1.0s\n",
      "[CV] max_depth=4, min_samples_split=40, n_estimators=1000 ............\n",
      "[CV]  max_depth=4, min_samples_split=10, n_estimators=1000, score=0.81, total=   2.0s\n",
      "[CV]  max_depth=4, min_samples_split=10, n_estimators=1000, score=0.85, total=   2.0s\n",
      "[CV] max_depth=4, min_samples_split=40, n_estimators=1000 ............\n",
      "[CV] max_depth=4, min_samples_split=40, n_estimators=1000 ............\n",
      "[CV]  max_depth=4, min_samples_split=40, n_estimators=500, score=0.85, total=   1.0s\n",
      "[CV] max_depth=4, min_samples_split=40, n_estimators=1000 ............\n",
      "[CV]  max_depth=4, min_samples_split=10, n_estimators=1000, score=0.8282828282828283, total=   2.0s\n",
      "[CV] max_depth=4, min_samples_split=40, n_estimators=1000 ............\n"
     ]
    },
    {
     "name": "stderr",
     "output_type": "stream",
     "text": [
      "[Parallel(n_jobs=-1)]: Done 191 tasks      | elapsed:   19.8s\n"
     ]
    },
    {
     "name": "stdout",
     "output_type": "stream",
     "text": [
      "[CV]  max_depth=4, min_samples_split=10, n_estimators=1000, score=0.8080808080808081, total=   2.0s\n",
      "[CV] max_depth=4, min_samples_split=100, n_estimators=10 .............\n",
      "[CV]  max_depth=4, min_samples_split=100, n_estimators=10, score=0.7425742574257426, total=   0.0s\n",
      "[CV] max_depth=4, min_samples_split=100, n_estimators=10 .............\n",
      "[CV]  max_depth=4, min_samples_split=100, n_estimators=10, score=0.77, total=   0.0s\n",
      "[CV] max_depth=4, min_samples_split=100, n_estimators=10 .............\n",
      "[CV]  max_depth=4, min_samples_split=100, n_estimators=10, score=0.85, total=   0.0s\n",
      "[CV] max_depth=4, min_samples_split=100, n_estimators=10 .............\n",
      "[CV]  max_depth=4, min_samples_split=100, n_estimators=10, score=0.8181818181818182, total=   0.0s\n",
      "[CV] max_depth=4, min_samples_split=100, n_estimators=10 .............\n",
      "[CV]  max_depth=4, min_samples_split=100, n_estimators=10, score=0.7575757575757576, total=   0.0s\n",
      "[CV] max_depth=4, min_samples_split=100, n_estimators=100 ............\n",
      "[CV]  max_depth=4, min_samples_split=100, n_estimators=100, score=0.7623762376237624, total=   0.2s\n",
      "[CV] max_depth=4, min_samples_split=100, n_estimators=100 ............\n",
      "[CV]  max_depth=4, min_samples_split=100, n_estimators=100, score=0.76, total=   0.2s\n",
      "[CV] max_depth=4, min_samples_split=100, n_estimators=100 ............\n",
      "[CV]  max_depth=4, min_samples_split=40, n_estimators=500, score=0.8383838383838383, total=   1.1s\n",
      "[CV] max_depth=4, min_samples_split=100, n_estimators=100 ............\n",
      "[CV]  max_depth=4, min_samples_split=40, n_estimators=500, score=0.7777777777777778, total=   1.1s\n",
      "[CV] max_depth=4, min_samples_split=100, n_estimators=100 ............\n",
      "[CV]  max_depth=4, min_samples_split=100, n_estimators=100, score=0.83, total=   0.2s\n",
      "[CV] max_depth=4, min_samples_split=100, n_estimators=500 ............\n",
      "[CV]  max_depth=4, min_samples_split=100, n_estimators=100, score=0.8181818181818182, total=   0.2s\n",
      "[CV] max_depth=4, min_samples_split=100, n_estimators=500 ............\n",
      "[CV]  max_depth=4, min_samples_split=100, n_estimators=100, score=0.797979797979798, total=   0.2s\n",
      "[CV] max_depth=4, min_samples_split=100, n_estimators=500 ............\n",
      "[CV]  max_depth=4, min_samples_split=40, n_estimators=1000, score=0.7524752475247525, total=   2.0s\n",
      "[CV] max_depth=4, min_samples_split=100, n_estimators=500 ............\n",
      "[CV]  max_depth=4, min_samples_split=40, n_estimators=1000, score=0.84, total=   2.0s\n",
      "[CV] max_depth=4, min_samples_split=100, n_estimators=500 ............\n",
      "[CV]  max_depth=4, min_samples_split=40, n_estimators=1000, score=0.78, total=   2.0s\n",
      "[CV] max_depth=4, min_samples_split=100, n_estimators=1000 ...........\n",
      "[CV]  max_depth=4, min_samples_split=100, n_estimators=500, score=0.7623762376237624, total=   0.9s\n",
      "[CV] max_depth=4, min_samples_split=100, n_estimators=1000 ...........\n",
      "[CV]  max_depth=4, min_samples_split=100, n_estimators=500, score=0.76, total=   0.9s\n",
      "[CV] max_depth=4, min_samples_split=100, n_estimators=1000 ...........\n",
      "[CV]  max_depth=4, min_samples_split=40, n_estimators=1000, score=0.8484848484848485, total=   2.0s\n",
      "[CV] max_depth=4, min_samples_split=100, n_estimators=1000 ...........\n",
      "[CV]  max_depth=4, min_samples_split=100, n_estimators=500, score=0.83, total=   0.9s\n",
      "[CV] max_depth=4, min_samples_split=100, n_estimators=1000 ...........\n",
      "[CV]  max_depth=4, min_samples_split=40, n_estimators=1000, score=0.797979797979798, total=   2.0s\n",
      "[CV] max_depth=4, min_samples_split=200, n_estimators=10 .............\n"
     ]
    },
    {
     "name": "stderr",
     "output_type": "stream",
     "text": [
      "[Parallel(n_jobs=-1)]: Done 208 tasks      | elapsed:   21.8s\n"
     ]
    },
    {
     "name": "stdout",
     "output_type": "stream",
     "text": [
      "[CV]  max_depth=4, min_samples_split=200, n_estimators=10, score=0.7722772277227723, total=   0.0s\n",
      "[CV] max_depth=4, min_samples_split=200, n_estimators=10 .............\n",
      "[CV]  max_depth=4, min_samples_split=200, n_estimators=10, score=0.75, total=   0.0s\n",
      "[CV] max_depth=4, min_samples_split=200, n_estimators=10 .............\n",
      "[CV]  max_depth=4, min_samples_split=200, n_estimators=10, score=0.82, total=   0.0s\n",
      "[CV] max_depth=4, min_samples_split=200, n_estimators=10 .............\n",
      "[CV]  max_depth=4, min_samples_split=200, n_estimators=10, score=0.7373737373737373, total=   0.0s\n",
      "[CV] max_depth=4, min_samples_split=200, n_estimators=10 .............\n",
      "[CV]  max_depth=4, min_samples_split=200, n_estimators=10, score=0.797979797979798, total=   0.0s\n",
      "[CV] max_depth=4, min_samples_split=200, n_estimators=100 ............\n",
      "[CV]  max_depth=4, min_samples_split=200, n_estimators=100, score=0.7821782178217822, total=   0.2s\n",
      "[CV] max_depth=4, min_samples_split=200, n_estimators=100 ............\n",
      "[CV]  max_depth=4, min_samples_split=200, n_estimators=100, score=0.75, total=   0.2s\n",
      "[CV] max_depth=4, min_samples_split=200, n_estimators=100 ............\n",
      "[CV]  max_depth=4, min_samples_split=200, n_estimators=100, score=0.83, total=   0.2s\n",
      "[CV] max_depth=4, min_samples_split=200, n_estimators=100 ............\n",
      "[CV]  max_depth=4, min_samples_split=100, n_estimators=500, score=0.797979797979798, total=   1.0s\n",
      "[CV] max_depth=4, min_samples_split=200, n_estimators=100 ............\n",
      "[CV]  max_depth=4, min_samples_split=100, n_estimators=500, score=0.8181818181818182, total=   1.0s\n",
      "[CV] max_depth=4, min_samples_split=200, n_estimators=500 ............\n",
      "[CV]  max_depth=4, min_samples_split=200, n_estimators=100, score=0.797979797979798, total=   0.2s\n",
      "[CV] max_depth=4, min_samples_split=200, n_estimators=500 ............\n",
      "[CV]  max_depth=4, min_samples_split=200, n_estimators=100, score=0.7575757575757576, total=   0.2s\n",
      "[CV] max_depth=4, min_samples_split=200, n_estimators=500 ............\n"
     ]
    },
    {
     "name": "stderr",
     "output_type": "stream",
     "text": [
      "[Parallel(n_jobs=-1)]: Done 225 tasks      | elapsed:   23.1s\n"
     ]
    },
    {
     "name": "stdout",
     "output_type": "stream",
     "text": [
      "[CV]  max_depth=4, min_samples_split=200, n_estimators=500, score=0.7623762376237624, total=   1.0s\n",
      "[CV] max_depth=4, min_samples_split=200, n_estimators=500 ............\n",
      "[CV]  max_depth=4, min_samples_split=100, n_estimators=1000, score=0.76, total=   2.0s\n",
      "[CV] max_depth=4, min_samples_split=200, n_estimators=500 ............\n",
      "[CV]  max_depth=4, min_samples_split=100, n_estimators=1000, score=0.7623762376237624, total=   2.0s\n",
      "[CV] max_depth=4, min_samples_split=200, n_estimators=1000 ...........\n",
      "[CV]  max_depth=4, min_samples_split=100, n_estimators=1000, score=0.797979797979798, total=   2.0s\n",
      "[CV]  max_depth=4, min_samples_split=100, n_estimators=1000, score=0.83, total=   2.0s\n",
      "[CV]  max_depth=4, min_samples_split=100, n_estimators=1000, score=0.8181818181818182, total=   2.0s\n",
      "[CV] max_depth=4, min_samples_split=200, n_estimators=1000 ...........\n",
      "[CV] max_depth=4, min_samples_split=200, n_estimators=1000 ...........\n",
      "[CV] max_depth=4, min_samples_split=200, n_estimators=1000 ...........\n",
      "[CV]  max_depth=4, min_samples_split=200, n_estimators=500, score=0.76, total=   1.0s\n",
      "[CV] max_depth=4, min_samples_split=200, n_estimators=1000 ...........\n",
      "[CV]  max_depth=4, min_samples_split=200, n_estimators=500, score=0.83, total=   1.0s\n",
      "[CV] max_depth=6, min_samples_split=10, n_estimators=10 ..............\n",
      "[CV]  max_depth=6, min_samples_split=10, n_estimators=10, score=0.7920792079207921, total=   0.0s\n",
      "[CV] max_depth=6, min_samples_split=10, n_estimators=10 ..............\n",
      "[CV]  max_depth=6, min_samples_split=10, n_estimators=10, score=0.82, total=   0.0s\n",
      "[CV] max_depth=6, min_samples_split=10, n_estimators=10 ..............\n",
      "[CV]  max_depth=6, min_samples_split=10, n_estimators=10, score=0.9, total=   0.0s\n",
      "[CV] max_depth=6, min_samples_split=10, n_estimators=10 ..............\n",
      "[CV]  max_depth=6, min_samples_split=10, n_estimators=10, score=0.8282828282828283, total=   0.0s\n",
      "[CV] max_depth=6, min_samples_split=10, n_estimators=10 ..............\n",
      "[CV]  max_depth=6, min_samples_split=10, n_estimators=10, score=0.8282828282828283, total=   0.0s\n",
      "[CV] max_depth=6, min_samples_split=10, n_estimators=100 .............\n",
      "[CV]  max_depth=6, min_samples_split=10, n_estimators=100, score=0.801980198019802, total=   0.2s\n",
      "[CV] max_depth=6, min_samples_split=10, n_estimators=100 .............\n",
      "[CV]  max_depth=6, min_samples_split=10, n_estimators=100, score=0.82, total=   0.2s\n",
      "[CV] max_depth=6, min_samples_split=10, n_estimators=100 .............\n",
      "[CV]  max_depth=4, min_samples_split=200, n_estimators=500, score=0.7878787878787878, total=   1.0s\n",
      "[CV] max_depth=6, min_samples_split=10, n_estimators=100 .............\n",
      "[CV]  max_depth=4, min_samples_split=200, n_estimators=500, score=0.8181818181818182, total=   1.0s\n",
      "[CV] max_depth=6, min_samples_split=10, n_estimators=100 .............\n",
      "[CV]  max_depth=6, min_samples_split=10, n_estimators=100, score=0.87, total=   0.2s\n",
      "[CV] max_depth=6, min_samples_split=10, n_estimators=500 .............\n",
      "[CV]  max_depth=6, min_samples_split=10, n_estimators=100, score=0.8383838383838383, total=   0.2s\n",
      "[CV] max_depth=6, min_samples_split=10, n_estimators=500 .............\n",
      "[CV]  max_depth=6, min_samples_split=10, n_estimators=100, score=0.8484848484848485, total=   0.2s\n",
      "[CV] max_depth=6, min_samples_split=10, n_estimators=500 .............\n"
     ]
    },
    {
     "name": "stderr",
     "output_type": "stream",
     "text": [
      "[Parallel(n_jobs=-1)]: Done 244 tasks      | elapsed:   25.3s\n"
     ]
    },
    {
     "name": "stdout",
     "output_type": "stream",
     "text": [
      "[CV]  max_depth=4, min_samples_split=200, n_estimators=1000, score=0.7623762376237624, total=   1.9s\n",
      "[CV] max_depth=6, min_samples_split=10, n_estimators=500 .............\n",
      "[CV]  max_depth=4, min_samples_split=200, n_estimators=1000, score=0.76, total=   1.9s\n",
      "[CV] max_depth=6, min_samples_split=10, n_estimators=500 .............\n",
      "[CV]  max_depth=4, min_samples_split=200, n_estimators=1000, score=0.8181818181818182, total=   1.9s\n",
      "[CV] max_depth=6, min_samples_split=10, n_estimators=1000 ............\n",
      "[CV]  max_depth=4, min_samples_split=200, n_estimators=1000, score=0.83, total=   1.9s\n",
      "[CV] max_depth=6, min_samples_split=10, n_estimators=1000 ............\n",
      "[CV]  max_depth=4, min_samples_split=200, n_estimators=1000, score=0.7878787878787878, total=   1.9s\n",
      "[CV] max_depth=6, min_samples_split=10, n_estimators=1000 ............\n",
      "[CV]  max_depth=6, min_samples_split=10, n_estimators=500, score=0.7920792079207921, total=   1.0s\n",
      "[CV] max_depth=6, min_samples_split=10, n_estimators=1000 ............\n",
      "[CV]  max_depth=6, min_samples_split=10, n_estimators=500, score=0.82, total=   1.0s\n",
      "[CV] max_depth=6, min_samples_split=10, n_estimators=1000 ............\n",
      "[CV]  max_depth=6, min_samples_split=10, n_estimators=500, score=0.86, total=   1.0s\n",
      "[CV] max_depth=6, min_samples_split=40, n_estimators=10 ..............\n",
      "[CV]  max_depth=6, min_samples_split=40, n_estimators=10, score=0.7623762376237624, total=   0.0s\n",
      "[CV] max_depth=6, min_samples_split=40, n_estimators=10 ..............\n",
      "[CV]  max_depth=6, min_samples_split=40, n_estimators=10, score=0.8, total=   0.0s\n",
      "[CV] max_depth=6, min_samples_split=40, n_estimators=10 ..............\n",
      "[CV]  max_depth=6, min_samples_split=40, n_estimators=10, score=0.86, total=   0.0s\n",
      "[CV] max_depth=6, min_samples_split=40, n_estimators=10 ..............\n",
      "[CV]  max_depth=6, min_samples_split=40, n_estimators=10, score=0.797979797979798, total=   0.0s\n",
      "[CV] max_depth=6, min_samples_split=40, n_estimators=10 ..............\n",
      "[CV]  max_depth=6, min_samples_split=40, n_estimators=10, score=0.797979797979798, total=   0.0s\n",
      "[CV] max_depth=6, min_samples_split=40, n_estimators=100 .............\n",
      "[CV]  max_depth=6, min_samples_split=40, n_estimators=100, score=0.7722772277227723, total=   0.2s\n",
      "[CV] max_depth=6, min_samples_split=40, n_estimators=100 .............\n",
      "[CV]  max_depth=6, min_samples_split=40, n_estimators=100, score=0.77, total=   0.2s\n",
      "[CV] max_depth=6, min_samples_split=40, n_estimators=100 .............\n",
      "[CV]  max_depth=6, min_samples_split=10, n_estimators=500, score=0.8484848484848485, total=   1.1s\n",
      "[CV] max_depth=6, min_samples_split=40, n_estimators=100 .............\n",
      "[CV]  max_depth=6, min_samples_split=40, n_estimators=100, score=0.85, total=   0.2s\n",
      "[CV] max_depth=6, min_samples_split=40, n_estimators=100 .............\n",
      "[CV]  max_depth=6, min_samples_split=10, n_estimators=500, score=0.8484848484848485, total=   1.1s\n",
      "[CV] max_depth=6, min_samples_split=40, n_estimators=500 .............\n",
      "[CV]  max_depth=6, min_samples_split=40, n_estimators=100, score=0.8383838383838383, total=   0.2s\n",
      "[CV] max_depth=6, min_samples_split=40, n_estimators=500 .............\n"
     ]
    },
    {
     "name": "stderr",
     "output_type": "stream",
     "text": [
      "[Parallel(n_jobs=-1)]: Done 263 tasks      | elapsed:   27.2s\n"
     ]
    },
    {
     "name": "stdout",
     "output_type": "stream",
     "text": [
      "[CV]  max_depth=6, min_samples_split=40, n_estimators=100, score=0.8282828282828283, total=   0.2s\n",
      "[CV] max_depth=6, min_samples_split=40, n_estimators=500 .............\n",
      "[CV]  max_depth=6, min_samples_split=10, n_estimators=1000, score=0.7920792079207921, total=   2.0s\n",
      "[CV]  max_depth=6, min_samples_split=40, n_estimators=500, score=0.7524752475247525, total=   1.0s\n",
      "[CV] max_depth=6, min_samples_split=40, n_estimators=500 .............\n",
      "[CV] max_depth=6, min_samples_split=40, n_estimators=500 .............\n",
      "[CV]  max_depth=6, min_samples_split=10, n_estimators=1000, score=0.82, total=   2.0s\n",
      "[CV] max_depth=6, min_samples_split=40, n_estimators=1000 ............\n",
      "[CV]  max_depth=6, min_samples_split=10, n_estimators=1000, score=0.86, total=   2.0s\n",
      "[CV]  max_depth=6, min_samples_split=10, n_estimators=1000, score=0.8585858585858586, total=   2.0s\n",
      "[CV] max_depth=6, min_samples_split=40, n_estimators=1000 ............\n",
      "[CV] max_depth=6, min_samples_split=40, n_estimators=1000 ............\n",
      "[CV]  max_depth=6, min_samples_split=40, n_estimators=500, score=0.79, total=   1.0s\n",
      "[CV] max_depth=6, min_samples_split=40, n_estimators=1000 ............\n",
      "[CV]  max_depth=6, min_samples_split=40, n_estimators=500, score=0.85, total=   1.0s\n",
      "[CV] max_depth=6, min_samples_split=40, n_estimators=1000 ............\n",
      "[CV]  max_depth=6, min_samples_split=10, n_estimators=1000, score=0.8484848484848485, total=   2.0s\n",
      "[CV] max_depth=6, min_samples_split=100, n_estimators=10 .............\n",
      "[CV]  max_depth=6, min_samples_split=100, n_estimators=10, score=0.7425742574257426, total=   0.0s\n",
      "[CV] max_depth=6, min_samples_split=100, n_estimators=10 .............\n",
      "[CV]  max_depth=6, min_samples_split=100, n_estimators=10, score=0.77, total=   0.0s\n",
      "[CV] max_depth=6, min_samples_split=100, n_estimators=10 .............\n",
      "[CV]  max_depth=6, min_samples_split=100, n_estimators=10, score=0.85, total=   0.0s\n",
      "[CV] max_depth=6, min_samples_split=100, n_estimators=10 .............\n",
      "[CV]  max_depth=6, min_samples_split=100, n_estimators=10, score=0.8181818181818182, total=   0.0s\n",
      "[CV] max_depth=6, min_samples_split=100, n_estimators=10 .............\n",
      "[CV]  max_depth=6, min_samples_split=100, n_estimators=10, score=0.7575757575757576, total=   0.0s\n",
      "[CV] max_depth=6, min_samples_split=100, n_estimators=100 ............\n",
      "[CV]  max_depth=6, min_samples_split=100, n_estimators=100, score=0.7623762376237624, total=   0.2s\n",
      "[CV] max_depth=6, min_samples_split=100, n_estimators=100 ............\n",
      "[CV]  max_depth=6, min_samples_split=100, n_estimators=100, score=0.76, total=   0.2s\n",
      "[CV] max_depth=6, min_samples_split=100, n_estimators=100 ............\n",
      "[CV]  max_depth=6, min_samples_split=40, n_estimators=500, score=0.8080808080808081, total=   1.1s\n",
      "[CV] max_depth=6, min_samples_split=100, n_estimators=100 ............\n",
      "[CV]  max_depth=6, min_samples_split=100, n_estimators=100, score=0.83, total=   0.2s\n",
      "[CV]  max_depth=6, min_samples_split=40, n_estimators=500, score=0.8484848484848485, total=   1.1s\n",
      "[CV] max_depth=6, min_samples_split=100, n_estimators=100 ............\n",
      "[CV] max_depth=6, min_samples_split=100, n_estimators=500 ............\n",
      "[CV]  max_depth=6, min_samples_split=100, n_estimators=100, score=0.8181818181818182, total=   0.2s\n",
      "[CV]  max_depth=6, min_samples_split=100, n_estimators=100, score=0.797979797979798, total=   0.2s\n",
      "[CV] max_depth=6, min_samples_split=100, n_estimators=500 ............\n",
      "[CV] max_depth=6, min_samples_split=100, n_estimators=500 ............\n"
     ]
    },
    {
     "name": "stderr",
     "output_type": "stream",
     "text": [
      "[Parallel(n_jobs=-1)]: Done 284 tasks      | elapsed:   29.7s\n"
     ]
    },
    {
     "name": "stdout",
     "output_type": "stream",
     "text": [
      "[CV]  max_depth=6, min_samples_split=100, n_estimators=500, score=0.7623762376237624, total=   0.9s\n",
      "[CV] max_depth=6, min_samples_split=100, n_estimators=500 ............\n",
      "[CV]  max_depth=6, min_samples_split=40, n_estimators=1000, score=0.7623762376237624, total=   2.0s\n",
      "[CV] max_depth=6, min_samples_split=100, n_estimators=500 ............\n",
      "[CV]  max_depth=6, min_samples_split=40, n_estimators=1000, score=0.8, total=   2.0s\n",
      "[CV]  max_depth=6, min_samples_split=40, n_estimators=1000, score=0.84, total=   2.0s\n",
      "[CV] max_depth=6, min_samples_split=100, n_estimators=1000 ...........\n",
      "[CV] max_depth=6, min_samples_split=100, n_estimators=1000 ...........\n",
      "[CV]  max_depth=6, min_samples_split=40, n_estimators=1000, score=0.8484848484848485, total=   2.0s\n",
      "[CV] max_depth=6, min_samples_split=100, n_estimators=1000 ...........\n",
      "[CV]  max_depth=6, min_samples_split=100, n_estimators=500, score=0.83, total=   1.0s\n",
      "[CV]  max_depth=6, min_samples_split=100, n_estimators=500, score=0.76, total=   1.0s\n",
      "[CV] max_depth=6, min_samples_split=100, n_estimators=1000 ...........\n",
      "[CV] max_depth=6, min_samples_split=100, n_estimators=1000 ...........\n",
      "[CV]  max_depth=6, min_samples_split=40, n_estimators=1000, score=0.797979797979798, total=   2.0s\n",
      "[CV] max_depth=6, min_samples_split=200, n_estimators=10 .............\n",
      "[CV]  max_depth=6, min_samples_split=200, n_estimators=10, score=0.7722772277227723, total=   0.0s\n",
      "[CV] max_depth=6, min_samples_split=200, n_estimators=10 .............\n",
      "[CV]  max_depth=6, min_samples_split=200, n_estimators=10, score=0.75, total=   0.0s\n",
      "[CV] max_depth=6, min_samples_split=200, n_estimators=10 .............\n",
      "[CV]  max_depth=6, min_samples_split=200, n_estimators=10, score=0.82, total=   0.0s\n",
      "[CV] max_depth=6, min_samples_split=200, n_estimators=10 .............\n",
      "[CV]  max_depth=6, min_samples_split=200, n_estimators=10, score=0.7373737373737373, total=   0.0s\n",
      "[CV] max_depth=6, min_samples_split=200, n_estimators=10 .............\n",
      "[CV]  max_depth=6, min_samples_split=200, n_estimators=10, score=0.797979797979798, total=   0.0s\n",
      "[CV] max_depth=6, min_samples_split=200, n_estimators=100 ............\n",
      "[CV]  max_depth=6, min_samples_split=200, n_estimators=100, score=0.7821782178217822, total=   0.2s\n",
      "[CV] max_depth=6, min_samples_split=200, n_estimators=100 ............\n",
      "[CV]  max_depth=6, min_samples_split=200, n_estimators=100, score=0.75, total=   0.2s\n",
      "[CV] max_depth=6, min_samples_split=200, n_estimators=100 ............\n",
      "[CV]  max_depth=6, min_samples_split=100, n_estimators=500, score=0.8181818181818182, total=   1.0s\n",
      "[CV] max_depth=6, min_samples_split=200, n_estimators=100 ............\n",
      "[CV]  max_depth=6, min_samples_split=200, n_estimators=100, score=0.83, total=   0.2s\n",
      "[CV] max_depth=6, min_samples_split=200, n_estimators=100 ............\n",
      "[CV]  max_depth=6, min_samples_split=100, n_estimators=500, score=0.797979797979798, total=   1.0s\n",
      "[CV] max_depth=6, min_samples_split=200, n_estimators=500 ............\n",
      "[CV]  max_depth=6, min_samples_split=200, n_estimators=100, score=0.797979797979798, total=   0.2s\n",
      "[CV] max_depth=6, min_samples_split=200, n_estimators=500 ............\n",
      "[CV]  max_depth=6, min_samples_split=200, n_estimators=100, score=0.7575757575757576, total=   0.2s\n",
      "[CV] max_depth=6, min_samples_split=200, n_estimators=500 ............\n"
     ]
    },
    {
     "name": "stderr",
     "output_type": "stream",
     "text": [
      "[Parallel(n_jobs=-1)]: Done 305 tasks      | elapsed:   31.8s\n"
     ]
    },
    {
     "name": "stdout",
     "output_type": "stream",
     "text": [
      "[CV]  max_depth=6, min_samples_split=100, n_estimators=1000, score=0.7623762376237624, total=   1.9s\n",
      "[CV] max_depth=6, min_samples_split=200, n_estimators=500 ............\n",
      "[CV]  max_depth=6, min_samples_split=100, n_estimators=1000, score=0.76, total=   1.9s\n",
      "[CV]  max_depth=6, min_samples_split=200, n_estimators=500, score=0.7623762376237624, total=   0.9s\n",
      "[CV] max_depth=6, min_samples_split=200, n_estimators=500 ............\n",
      "[CV] max_depth=6, min_samples_split=200, n_estimators=1000 ...........\n",
      "[CV]  max_depth=6, min_samples_split=100, n_estimators=1000, score=0.83, total=   1.9s\n",
      "[CV] max_depth=6, min_samples_split=200, n_estimators=1000 ...........\n",
      "[CV]  max_depth=6, min_samples_split=100, n_estimators=1000, score=0.8181818181818182, total=   1.9s\n",
      "[CV] max_depth=6, min_samples_split=200, n_estimators=1000 ...........\n",
      "[CV]  max_depth=6, min_samples_split=200, n_estimators=500, score=0.76, total=   1.0s\n",
      "[CV]  max_depth=6, min_samples_split=200, n_estimators=500, score=0.83, total=   0.9s\n",
      "[CV]  max_depth=6, min_samples_split=100, n_estimators=1000, score=0.797979797979798, total=   1.9s\n",
      "[CV] max_depth=6, min_samples_split=200, n_estimators=1000 ...........\n",
      "[CV] max_depth=6, min_samples_split=200, n_estimators=1000 ...........\n",
      "[CV] max_depth=10, min_samples_split=10, n_estimators=10 .............\n",
      "[CV]  max_depth=10, min_samples_split=10, n_estimators=10, score=0.7821782178217822, total=   0.0s\n",
      "[CV] max_depth=10, min_samples_split=10, n_estimators=10 .............\n",
      "[CV]  max_depth=10, min_samples_split=10, n_estimators=10, score=0.84, total=   0.0s\n",
      "[CV] max_depth=10, min_samples_split=10, n_estimators=10 .............\n",
      "[CV]  max_depth=10, min_samples_split=10, n_estimators=10, score=0.86, total=   0.0s\n",
      "[CV] max_depth=10, min_samples_split=10, n_estimators=10 .............\n",
      "[CV]  max_depth=10, min_samples_split=10, n_estimators=10, score=0.8282828282828283, total=   0.0s\n",
      "[CV] max_depth=10, min_samples_split=10, n_estimators=10 .............\n",
      "[CV]  max_depth=10, min_samples_split=10, n_estimators=10, score=0.8080808080808081, total=   0.0s\n",
      "[CV] max_depth=10, min_samples_split=10, n_estimators=100 ............\n",
      "[CV]  max_depth=10, min_samples_split=10, n_estimators=100, score=0.8118811881188119, total=   0.2s\n",
      "[CV] max_depth=10, min_samples_split=10, n_estimators=100 ............\n",
      "[CV]  max_depth=10, min_samples_split=10, n_estimators=100, score=0.82, total=   0.2s\n",
      "[CV] max_depth=10, min_samples_split=10, n_estimators=100 ............\n",
      "[CV]  max_depth=10, min_samples_split=10, n_estimators=100, score=0.86, total=   0.2s\n",
      "[CV]  max_depth=6, min_samples_split=200, n_estimators=500, score=0.7878787878787878, total=   1.0s\n",
      "[CV] max_depth=10, min_samples_split=10, n_estimators=100 ............\n",
      "[CV] max_depth=10, min_samples_split=10, n_estimators=100 ............\n",
      "[CV]  max_depth=6, min_samples_split=200, n_estimators=500, score=0.8181818181818182, total=   1.0s\n",
      "[CV] max_depth=10, min_samples_split=10, n_estimators=500 ............\n",
      "[CV]  max_depth=10, min_samples_split=10, n_estimators=100, score=0.8282828282828283, total=   0.2s\n",
      "[CV]  max_depth=10, min_samples_split=10, n_estimators=100, score=0.8383838383838383, total=   0.2s\n",
      "[CV] max_depth=10, min_samples_split=10, n_estimators=500 ............\n",
      "[CV] max_depth=10, min_samples_split=10, n_estimators=500 ............\n",
      "[CV]  max_depth=6, min_samples_split=200, n_estimators=1000, score=0.7623762376237624, total=   1.9s\n",
      "[CV] max_depth=10, min_samples_split=10, n_estimators=500 ............\n",
      "[CV]  max_depth=6, min_samples_split=200, n_estimators=1000, score=0.76, total=   1.9s\n",
      "[CV] max_depth=10, min_samples_split=10, n_estimators=500 ............\n",
      "[CV]  max_depth=10, min_samples_split=10, n_estimators=500, score=0.801980198019802, total=   1.0s\n",
      "[CV] max_depth=10, min_samples_split=10, n_estimators=1000 ...........\n",
      "[CV]  max_depth=6, min_samples_split=200, n_estimators=1000, score=0.83, total=   1.9s\n",
      "[CV] max_depth=10, min_samples_split=10, n_estimators=1000 ...........\n",
      "[CV]  max_depth=6, min_samples_split=200, n_estimators=1000, score=0.7878787878787878, total=   1.9s\n",
      "[CV] max_depth=10, min_samples_split=10, n_estimators=1000 ...........\n",
      "[CV]  max_depth=6, min_samples_split=200, n_estimators=1000, score=0.8181818181818182, total=   1.9s\n",
      "[CV] max_depth=10, min_samples_split=10, n_estimators=1000 ...........\n"
     ]
    },
    {
     "name": "stderr",
     "output_type": "stream",
     "text": [
      "[Parallel(n_jobs=-1)]: Done 328 tasks      | elapsed:   34.8s\n"
     ]
    },
    {
     "name": "stdout",
     "output_type": "stream",
     "text": [
      "[CV]  max_depth=10, min_samples_split=10, n_estimators=500, score=0.8, total=   1.1s\n",
      "[CV] max_depth=10, min_samples_split=10, n_estimators=1000 ...........\n",
      "[CV]  max_depth=10, min_samples_split=10, n_estimators=500, score=0.86, total=   1.1s\n",
      "[CV] max_depth=10, min_samples_split=40, n_estimators=10 .............\n",
      "[CV]  max_depth=10, min_samples_split=40, n_estimators=10, score=0.7623762376237624, total=   0.0s\n",
      "[CV] max_depth=10, min_samples_split=40, n_estimators=10 .............\n",
      "[CV]  max_depth=10, min_samples_split=40, n_estimators=10, score=0.81, total=   0.0s\n",
      "[CV] max_depth=10, min_samples_split=40, n_estimators=10 .............\n",
      "[CV]  max_depth=10, min_samples_split=40, n_estimators=10, score=0.87, total=   0.0s\n",
      "[CV] max_depth=10, min_samples_split=40, n_estimators=10 .............\n",
      "[CV]  max_depth=10, min_samples_split=40, n_estimators=10, score=0.8181818181818182, total=   0.0s\n",
      "[CV] max_depth=10, min_samples_split=40, n_estimators=10 .............\n",
      "[CV]  max_depth=10, min_samples_split=40, n_estimators=10, score=0.797979797979798, total=   0.0s\n",
      "[CV] max_depth=10, min_samples_split=40, n_estimators=100 ............\n",
      "[CV]  max_depth=10, min_samples_split=40, n_estimators=100, score=0.7722772277227723, total=   0.2s\n",
      "[CV] max_depth=10, min_samples_split=40, n_estimators=100 ............\n",
      "[CV]  max_depth=10, min_samples_split=40, n_estimators=100, score=0.79, total=   0.2s\n",
      "[CV] max_depth=10, min_samples_split=40, n_estimators=100 ............\n",
      "[CV]  max_depth=10, min_samples_split=10, n_estimators=500, score=0.8282828282828283, total=   1.1s\n",
      "[CV] max_depth=10, min_samples_split=40, n_estimators=100 ............\n",
      "[CV]  max_depth=10, min_samples_split=10, n_estimators=500, score=0.8383838383838383, total=   1.1s\n",
      "[CV] max_depth=10, min_samples_split=40, n_estimators=100 ............\n",
      "[CV]  max_depth=10, min_samples_split=40, n_estimators=100, score=0.84, total=   0.2s\n",
      "[CV] max_depth=10, min_samples_split=40, n_estimators=500 ............\n",
      "[CV]  max_depth=10, min_samples_split=40, n_estimators=100, score=0.8383838383838383, total=   0.2s\n",
      "[CV] max_depth=10, min_samples_split=40, n_estimators=500 ............\n",
      "[CV]  max_depth=10, min_samples_split=40, n_estimators=100, score=0.8282828282828283, total=   0.2s\n",
      "[CV] max_depth=10, min_samples_split=40, n_estimators=500 ............\n",
      "[CV]  max_depth=10, min_samples_split=10, n_estimators=1000, score=0.801980198019802, total=   2.2s\n",
      "[CV] max_depth=10, min_samples_split=40, n_estimators=500 ............\n",
      "[CV]  max_depth=10, min_samples_split=40, n_estimators=500, score=0.7524752475247525, total=   1.0s\n",
      "[CV] max_depth=10, min_samples_split=40, n_estimators=500 ............\n",
      "[CV]  max_depth=10, min_samples_split=10, n_estimators=1000, score=0.86, total=   2.2s\n",
      "[CV] max_depth=10, min_samples_split=40, n_estimators=1000 ...........\n",
      "[CV]  max_depth=10, min_samples_split=10, n_estimators=1000, score=0.8282828282828283, total=   2.2s\n",
      "[CV] max_depth=10, min_samples_split=40, n_estimators=1000 ...........\n",
      "[CV]  max_depth=10, min_samples_split=10, n_estimators=1000, score=0.8, total=   2.3s\n",
      "[CV] max_depth=10, min_samples_split=40, n_estimators=1000 ...........\n",
      "[CV]  max_depth=10, min_samples_split=40, n_estimators=500, score=0.8, total=   1.0s\n",
      "[CV] max_depth=10, min_samples_split=40, n_estimators=1000 ...........\n",
      "[CV]  max_depth=10, min_samples_split=40, n_estimators=500, score=0.85, total=   1.0s\n",
      "[CV] max_depth=10, min_samples_split=40, n_estimators=1000 ...........\n",
      "[CV]  max_depth=10, min_samples_split=10, n_estimators=1000, score=0.8383838383838383, total=   2.1s\n",
      "[CV] max_depth=10, min_samples_split=100, n_estimators=10 ............\n",
      "[CV]  max_depth=10, min_samples_split=100, n_estimators=10, score=0.7425742574257426, total=   0.0s\n",
      "[CV] max_depth=10, min_samples_split=100, n_estimators=10 ............\n",
      "[CV]  max_depth=10, min_samples_split=100, n_estimators=10, score=0.77, total=   0.0s\n",
      "[CV] max_depth=10, min_samples_split=100, n_estimators=10 ............\n"
     ]
    },
    {
     "name": "stderr",
     "output_type": "stream",
     "text": [
      "[Parallel(n_jobs=-1)]: Done 351 tasks      | elapsed:   37.3s\n"
     ]
    },
    {
     "name": "stdout",
     "output_type": "stream",
     "text": [
      "[CV]  max_depth=10, min_samples_split=100, n_estimators=10, score=0.85, total=   0.0s\n",
      "[CV] max_depth=10, min_samples_split=100, n_estimators=10 ............\n",
      "[CV]  max_depth=10, min_samples_split=100, n_estimators=10, score=0.8181818181818182, total=   0.0s\n",
      "[CV] max_depth=10, min_samples_split=100, n_estimators=10 ............\n",
      "[CV]  max_depth=10, min_samples_split=100, n_estimators=10, score=0.7575757575757576, total=   0.0s\n",
      "[CV] max_depth=10, min_samples_split=100, n_estimators=100 ...........\n",
      "[CV]  max_depth=10, min_samples_split=100, n_estimators=100, score=0.7623762376237624, total=   0.2s\n",
      "[CV] max_depth=10, min_samples_split=100, n_estimators=100 ...........\n",
      "[CV]  max_depth=10, min_samples_split=100, n_estimators=100, score=0.76, total=   0.2s\n",
      "[CV] max_depth=10, min_samples_split=100, n_estimators=100 ...........\n",
      "[CV]  max_depth=10, min_samples_split=100, n_estimators=100, score=0.83, total=   0.2s\n",
      "[CV] max_depth=10, min_samples_split=100, n_estimators=100 ...........\n",
      "[CV]  max_depth=10, min_samples_split=40, n_estimators=500, score=0.8484848484848485, total=   1.0s\n",
      "[CV] max_depth=10, min_samples_split=100, n_estimators=100 ...........\n",
      "[CV]  max_depth=10, min_samples_split=40, n_estimators=500, score=0.8080808080808081, total=   1.0s\n",
      "[CV] max_depth=10, min_samples_split=100, n_estimators=500 ...........\n",
      "[CV]  max_depth=10, min_samples_split=100, n_estimators=100, score=0.8181818181818182, total=   0.2s\n",
      "[CV] max_depth=10, min_samples_split=100, n_estimators=500 ...........\n",
      "[CV]  max_depth=10, min_samples_split=100, n_estimators=100, score=0.797979797979798, total=   0.2s\n",
      "[CV] max_depth=10, min_samples_split=100, n_estimators=500 ...........\n",
      "[CV]  max_depth=10, min_samples_split=100, n_estimators=500, score=0.7623762376237624, total=   0.9s\n",
      "[CV] max_depth=10, min_samples_split=100, n_estimators=500 ...........\n",
      "[CV]  max_depth=10, min_samples_split=40, n_estimators=1000, score=0.78, total=   2.0s\n",
      "[CV] max_depth=10, min_samples_split=100, n_estimators=500 ...........\n",
      "[CV]  max_depth=10, min_samples_split=40, n_estimators=1000, score=0.7524752475247525, total=   2.0s\n",
      "[CV] max_depth=10, min_samples_split=100, n_estimators=1000 ..........\n",
      "[CV]  max_depth=10, min_samples_split=40, n_estimators=1000, score=0.84, total=   2.0s\n",
      "[CV] max_depth=10, min_samples_split=100, n_estimators=1000 ..........\n",
      "[CV]  max_depth=10, min_samples_split=40, n_estimators=1000, score=0.8484848484848485, total=   2.0s\n",
      "[CV] max_depth=10, min_samples_split=100, n_estimators=1000 ..........\n",
      "[CV]  max_depth=10, min_samples_split=100, n_estimators=500, score=0.76, total=   1.0s\n",
      "[CV] max_depth=10, min_samples_split=100, n_estimators=1000 ..........\n",
      "[CV]  max_depth=10, min_samples_split=100, n_estimators=500, score=0.83, total=   1.0s\n",
      "[CV] max_depth=10, min_samples_split=100, n_estimators=1000 ..........\n",
      "[CV]  max_depth=10, min_samples_split=40, n_estimators=1000, score=0.797979797979798, total=   2.0s\n",
      "[CV] max_depth=10, min_samples_split=200, n_estimators=10 ............\n",
      "[CV]  max_depth=10, min_samples_split=200, n_estimators=10, score=0.7722772277227723, total=   0.0s\n",
      "[CV] max_depth=10, min_samples_split=200, n_estimators=10 ............\n",
      "[CV]  max_depth=10, min_samples_split=200, n_estimators=10, score=0.75, total=   0.0s\n",
      "[CV] max_depth=10, min_samples_split=200, n_estimators=10 ............\n",
      "[CV]  max_depth=10, min_samples_split=200, n_estimators=10, score=0.82, total=   0.0s\n",
      "[CV] max_depth=10, min_samples_split=200, n_estimators=10 ............\n",
      "[CV]  max_depth=10, min_samples_split=200, n_estimators=10, score=0.7373737373737373, total=   0.0s\n",
      "[CV] max_depth=10, min_samples_split=200, n_estimators=10 ............\n",
      "[CV]  max_depth=10, min_samples_split=200, n_estimators=10, score=0.797979797979798, total=   0.0s\n",
      "[CV] max_depth=10, min_samples_split=200, n_estimators=100 ...........\n"
     ]
    },
    {
     "name": "stderr",
     "output_type": "stream",
     "text": [
      "[Parallel(n_jobs=-1)]: Done 376 tasks      | elapsed:   39.8s\n"
     ]
    },
    {
     "name": "stdout",
     "output_type": "stream",
     "text": [
      "[CV]  max_depth=10, min_samples_split=200, n_estimators=100, score=0.7821782178217822, total=   0.2s\n",
      "[CV] max_depth=10, min_samples_split=200, n_estimators=100 ...........\n",
      "[CV]  max_depth=10, min_samples_split=200, n_estimators=100, score=0.75, total=   0.2s\n",
      "[CV] max_depth=10, min_samples_split=200, n_estimators=100 ...........\n",
      "[CV]  max_depth=10, min_samples_split=100, n_estimators=500, score=0.8181818181818182, total=   1.0s\n",
      "[CV] max_depth=10, min_samples_split=200, n_estimators=100 ...........\n",
      "[CV]  max_depth=10, min_samples_split=100, n_estimators=500, score=0.797979797979798, total=   1.0s\n",
      "[CV] max_depth=10, min_samples_split=200, n_estimators=100 ...........\n",
      "[CV]  max_depth=10, min_samples_split=200, n_estimators=100, score=0.83, total=   0.2s\n",
      "[CV] max_depth=10, min_samples_split=200, n_estimators=500 ...........\n",
      "[CV]  max_depth=10, min_samples_split=200, n_estimators=100, score=0.797979797979798, total=   0.2s\n",
      "[CV] max_depth=10, min_samples_split=200, n_estimators=500 ...........\n",
      "[CV]  max_depth=10, min_samples_split=200, n_estimators=100, score=0.7575757575757576, total=   0.2s\n",
      "[CV] max_depth=10, min_samples_split=200, n_estimators=500 ...........\n",
      "[CV]  max_depth=10, min_samples_split=200, n_estimators=500, score=0.7623762376237624, total=   0.9s\n",
      "[CV] max_depth=10, min_samples_split=200, n_estimators=500 ...........\n",
      "[CV]  max_depth=10, min_samples_split=100, n_estimators=1000, score=0.797979797979798, total=   1.9s\n",
      "[CV] max_depth=10, min_samples_split=200, n_estimators=500 ...........\n",
      "[CV]  max_depth=10, min_samples_split=200, n_estimators=500, score=0.76, total=   0.9s\n",
      "[CV] max_depth=10, min_samples_split=200, n_estimators=1000 ..........\n",
      "[CV]  max_depth=10, min_samples_split=100, n_estimators=1000, score=0.7623762376237624, total=   2.2s\n",
      "[CV] max_depth=10, min_samples_split=200, n_estimators=1000 ..........\n",
      "[CV]  max_depth=10, min_samples_split=200, n_estimators=500, score=0.83, total=   0.9s\n",
      "[CV] max_depth=10, min_samples_split=200, n_estimators=1000 ..........\n",
      "[CV]  max_depth=10, min_samples_split=100, n_estimators=1000, score=0.76, total=   1.9s\n",
      "[CV] max_depth=10, min_samples_split=200, n_estimators=1000 ..........\n",
      "[CV]  max_depth=10, min_samples_split=100, n_estimators=1000, score=0.83, total=   2.1s\n",
      "[CV] max_depth=10, min_samples_split=200, n_estimators=1000 ..........\n",
      "[CV]  max_depth=10, min_samples_split=100, n_estimators=1000, score=0.8181818181818182, total=   2.2s\n",
      "[CV]  max_depth=10, min_samples_split=200, n_estimators=500, score=0.8181818181818182, total=   0.9s\n",
      "[CV]  max_depth=10, min_samples_split=200, n_estimators=500, score=0.7878787878787878, total=   0.9s\n",
      "[CV]  max_depth=10, min_samples_split=200, n_estimators=1000, score=0.7623762376237624, total=   1.5s\n",
      "[CV]  max_depth=10, min_samples_split=200, n_estimators=1000, score=0.76, total=   1.5s\n",
      "[CV]  max_depth=10, min_samples_split=200, n_estimators=1000, score=0.7878787878787878, total=   1.4s\n",
      "[CV]  max_depth=10, min_samples_split=200, n_estimators=1000, score=0.8181818181818182, total=   1.4s\n",
      "[CV]  max_depth=10, min_samples_split=200, n_estimators=1000, score=0.83, total=   1.6s\n"
     ]
    },
    {
     "name": "stderr",
     "output_type": "stream",
     "text": [
      "[Parallel(n_jobs=-1)]: Done 400 out of 400 | elapsed:   43.4s finished\n"
     ]
    },
    {
     "data": {
      "text/plain": [
       "GridSearchCV(cv=5, error_score='raise',\n",
       "       estimator=RandomForestClassifier(bootstrap=True, class_weight=None, criterion='gini',\n",
       "            max_depth=None, max_features='auto', max_leaf_nodes=None,\n",
       "            min_impurity_decrease=0.0, min_impurity_split=None,\n",
       "            min_samples_leaf=1, min_samples_split=2,\n",
       "            min_weight_fraction_leaf=0.0, n_estimators=10, n_jobs=1,\n",
       "            oob_score=False, random_state=42, verbose=0, warm_start=False),\n",
       "       fit_params=None, iid=True, n_jobs=-1,\n",
       "       param_grid={'n_estimators': [10, 100, 500, 1000], 'max_depth': [2, 3, 4, 6, 10], 'min_samples_split': [10, 40, 100, 200]},\n",
       "       pre_dispatch='2*n_jobs', refit=True, return_train_score='warn',\n",
       "       scoring=None, verbose=10)"
      ]
     },
     "execution_count": 115,
     "metadata": {},
     "output_type": "execute_result"
    }
   ],
   "source": [
    "grid_search.fit(X_train, y_train)"
   ]
  },
  {
   "cell_type": "code",
   "execution_count": 120,
   "metadata": {},
   "outputs": [
    {
     "name": "stdout",
     "output_type": "stream",
     "text": [
      "Meilleur classifieur : \n",
      "RandomForestClassifier(bootstrap=True, class_weight=None, criterion='gini',\n",
      "            max_depth=6, max_features='auto', max_leaf_nodes=None,\n",
      "            min_impurity_decrease=0.0, min_impurity_split=None,\n",
      "            min_samples_leaf=1, min_samples_split=10,\n",
      "            min_weight_fraction_leaf=0.0, n_estimators=100, n_jobs=1,\n",
      "            oob_score=False, random_state=42, verbose=0, warm_start=False)\n",
      "Meilleur score : 0.836\n"
     ]
    }
   ],
   "source": [
    "print(\"Meilleur classifieur : \")\n",
    "print(grid_search.best_estimator_)\n",
    "print(\"Meilleur score : %0.3f\" % grid_search.best_score_)\n",
    "notre_model_qui_tue = grid_search.best_estimator_"
   ]
  },
  {
   "cell_type": "markdown",
   "metadata": {},
   "source": [
    "## Utilisation de notre modèle pour effectuer des prédictions  pour Kaggle"
   ]
  },
  {
   "cell_type": "code",
   "execution_count": 132,
   "metadata": {},
   "outputs": [],
   "source": [
    "# Chargement des donnée sà predire \n",
    "a_predire = pd.read_csv('datasets/test.csv')"
   ]
  },
  {
   "cell_type": "code",
   "execution_count": 133,
   "metadata": {},
   "outputs": [],
   "source": [
    "# On recréer nos colonnes pour Pclass et Sexe\n",
    "a_predire = create_dummies(a_predire,'Pclass')\n",
    "a_predire = create_dummies(a_predire,'Sex')"
   ]
  },
  {
   "cell_type": "code",
   "execution_count": 134,
   "metadata": {},
   "outputs": [],
   "source": [
    "a_predire_caract = a_predire[[\"Age\",\"Fare\",\"Sex_female\",\"Sex_male\",\"Pclass_1\",\"Pclass_2\",\"Pclass_3\"]]"
   ]
  },
  {
   "cell_type": "code",
   "execution_count": 135,
   "metadata": {},
   "outputs": [
    {
     "data": {
      "text/html": [
       "<div>\n",
       "<style scoped>\n",
       "    .dataframe tbody tr th:only-of-type {\n",
       "        vertical-align: middle;\n",
       "    }\n",
       "\n",
       "    .dataframe tbody tr th {\n",
       "        vertical-align: top;\n",
       "    }\n",
       "\n",
       "    .dataframe thead th {\n",
       "        text-align: right;\n",
       "    }\n",
       "</style>\n",
       "<table border=\"1\" class=\"dataframe\">\n",
       "  <thead>\n",
       "    <tr style=\"text-align: right;\">\n",
       "      <th></th>\n",
       "      <th>Age</th>\n",
       "      <th>Fare</th>\n",
       "      <th>Sex_female</th>\n",
       "      <th>Sex_male</th>\n",
       "      <th>Pclass_1</th>\n",
       "      <th>Pclass_2</th>\n",
       "      <th>Pclass_3</th>\n",
       "    </tr>\n",
       "  </thead>\n",
       "  <tbody>\n",
       "    <tr>\n",
       "      <th>0</th>\n",
       "      <td>34.5</td>\n",
       "      <td>7.8292</td>\n",
       "      <td>0</td>\n",
       "      <td>1</td>\n",
       "      <td>0</td>\n",
       "      <td>0</td>\n",
       "      <td>1</td>\n",
       "    </tr>\n",
       "    <tr>\n",
       "      <th>1</th>\n",
       "      <td>47.0</td>\n",
       "      <td>7.0000</td>\n",
       "      <td>1</td>\n",
       "      <td>0</td>\n",
       "      <td>0</td>\n",
       "      <td>0</td>\n",
       "      <td>1</td>\n",
       "    </tr>\n",
       "    <tr>\n",
       "      <th>2</th>\n",
       "      <td>62.0</td>\n",
       "      <td>9.6875</td>\n",
       "      <td>0</td>\n",
       "      <td>1</td>\n",
       "      <td>0</td>\n",
       "      <td>1</td>\n",
       "      <td>0</td>\n",
       "    </tr>\n",
       "    <tr>\n",
       "      <th>3</th>\n",
       "      <td>27.0</td>\n",
       "      <td>8.6625</td>\n",
       "      <td>0</td>\n",
       "      <td>1</td>\n",
       "      <td>0</td>\n",
       "      <td>0</td>\n",
       "      <td>1</td>\n",
       "    </tr>\n",
       "    <tr>\n",
       "      <th>4</th>\n",
       "      <td>22.0</td>\n",
       "      <td>12.2875</td>\n",
       "      <td>1</td>\n",
       "      <td>0</td>\n",
       "      <td>0</td>\n",
       "      <td>0</td>\n",
       "      <td>1</td>\n",
       "    </tr>\n",
       "  </tbody>\n",
       "</table>\n",
       "</div>"
      ],
      "text/plain": [
       "    Age     Fare  Sex_female  Sex_male  Pclass_1  Pclass_2  Pclass_3\n",
       "0  34.5   7.8292           0         1         0         0         1\n",
       "1  47.0   7.0000           1         0         0         0         1\n",
       "2  62.0   9.6875           0         1         0         1         0\n",
       "3  27.0   8.6625           0         1         0         0         1\n",
       "4  22.0  12.2875           1         0         0         0         1"
      ]
     },
     "execution_count": 135,
     "metadata": {},
     "output_type": "execute_result"
    }
   ],
   "source": [
    "a_predire_caract.head()"
   ]
  },
  {
   "cell_type": "code",
   "execution_count": 138,
   "metadata": {},
   "outputs": [],
   "source": [
    "a_predire_caract = a_predire_caract.fillna(-1)"
   ]
  },
  {
   "cell_type": "code",
   "execution_count": 140,
   "metadata": {},
   "outputs": [],
   "source": [
    "a_predire['Survived'] = notre_model_qui_tue.predict(a_predire_caract)"
   ]
  },
  {
   "cell_type": "code",
   "execution_count": 142,
   "metadata": {},
   "outputs": [],
   "source": [
    "a_predire = a_predire[['PassengerId','Survived']]"
   ]
  },
  {
   "cell_type": "code",
   "execution_count": 144,
   "metadata": {},
   "outputs": [],
   "source": [
    "a_predire.to_csv('submissions.csv',sep=',', index = False)"
   ]
  },
  {
   "cell_type": "markdown",
   "metadata": {},
   "source": [
    "Reste plus qu'à envoyer à Kaggle ;-)"
   ]
  },
  {
   "cell_type": "markdown",
   "metadata": {},
   "source": [
    "Ce notebook nous place 9.000 ème"
   ]
  },
  {
   "cell_type": "code",
   "execution_count": null,
   "metadata": {},
   "outputs": [],
   "source": []
  }
 ],
 "metadata": {
  "kernelspec": {
   "display_name": "Python 3",
   "language": "python",
   "name": "python3"
  },
  "language_info": {
   "codemirror_mode": {
    "name": "ipython",
    "version": 3
   },
   "file_extension": ".py",
   "mimetype": "text/x-python",
   "name": "python",
   "nbconvert_exporter": "python",
   "pygments_lexer": "ipython3",
   "version": "3.6.5"
  }
 },
 "nbformat": 4,
 "nbformat_minor": 2
}
